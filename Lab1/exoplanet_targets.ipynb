{
 "cells": [
  {
   "cell_type": "code",
   "execution_count": 1,
   "metadata": {},
   "outputs": [],
   "source": [
    "import pandas as pd\n",
    "import numpy as np\n",
    "from datetime import datetime\n",
    "\n",
    "from astropy.coordinates import SkyCoord, AltAz, EarthLocation\n",
    "from astropy.time import Time\n",
    "from astropy import units as u"
   ]
  },
  {
   "cell_type": "code",
   "execution_count": 2,
   "metadata": {},
   "outputs": [],
   "source": [
    "file = \"data/exoplanet.eu_catalog.csv\""
   ]
  },
  {
   "cell_type": "code",
   "execution_count": 3,
   "metadata": {},
   "outputs": [],
   "source": [
    "data = pd.read_csv(file, skiprows=0, usecols=['radius', 'orbital_period', 'ra', 'dec', 'mag_v', \n",
    "                                              'star_distance', 'star_radius', 'semi_major_axis',\n",
    "                                              'eccentricity', 'tzero_tr'])"
   ]
  },
  {
   "cell_type": "code",
   "execution_count": 4,
   "metadata": {},
   "outputs": [],
   "source": [
    "# We want to drop rows with null planet and stellar radii\n",
    "# We also need the V-band magnitudes\n",
    "data = data.dropna(subset={\"radius\", \"star_radius\", \"mag_v\", \"tzero_tr\"})\n",
    "# We want only stars with mag_v ~< 12\n",
    "data = data[data[\"mag_v\"] < 12]\n",
    "\n",
    "# Now compute transit depth for each\n",
    "transit_depth = (0.10049*data[\"radius\"] / data[\"star_radius\"])**2\n",
    "# Compute transit signature in magnitudes\n",
    "transit_sig = -2.5 * np.log10(1 - transit_depth)\n",
    "data[\"transit_sig\"] = transit_sig\n",
    "# Drop all rows where transit signature is > 0.008\n",
    "data = data[transit_sig > 0.008]"
   ]
  },
  {
   "cell_type": "code",
   "execution_count": 5,
   "metadata": {},
   "outputs": [],
   "source": [
    "semi_minor_axis = data[\"semi_major_axis\"] * np.sqrt(1 - data[\"eccentricity\"]**2)\n",
    "# This is the lower bound on circumference\n",
    "circ = np.sqrt(2) * np.pi * np.sqrt(data[\"semi_major_axis\"]**2 + semi_minor_axis**2)\n",
    "# Velocity in meters per hour\n",
    "veloc = circ / data[\"orbital_period\"] * 1.496e11 / 24\n",
    "# Very rough duration estimate\n",
    "transit_dur = 2 * data[\"star_radius\"] * 6.957e8 / veloc\n",
    "data[\"transit_dur\"] = transit_dur\n",
    "# Keep transit duration under 3 hours\n",
    "data = data[transit_dur < 3]"
   ]
  },
  {
   "cell_type": "code",
   "execution_count": 6,
   "metadata": {},
   "outputs": [],
   "source": [
    "def from_jd(jd):\n",
    "    \n",
    "    A = jd // 1\n",
    "    L = A+68569\n",
    "    N = 4*L//146097\n",
    "    L = L-(146097*N+3)//4\n",
    "    I = 4000*(L+1)//1461001\n",
    "    L = L-1461*I//4+31\n",
    "    J = 80*L//2447\n",
    "    K = L-2447*J//80\n",
    "    L = J//11\n",
    "    J = J+2-12*L\n",
    "    I = 100*(N-49)+I+L\n",
    "    \n",
    "    B = jd % 1\n",
    "    hour = B * 24\n",
    "    minute = (hour % 1) * 60\n",
    "    second = (minute % 1) * 60\n",
    "    \n",
    "    I = map(int, I)\n",
    "    J = map(int, J)\n",
    "    K = map(int, K)\n",
    "    hour = map(int, hour)\n",
    "    minute = map(int, minute)\n",
    "    second = map(int, second)\n",
    "    \n",
    "    return [datetime(i, j, k, h, m, s) for i, j, k, h, m, s\n",
    "            in zip(I, J, K, hour, minute, second)]\n",
    "\n",
    "def equinox(year):\n",
    "    \n",
    "    return datetime(year, 3, 21, 0, 0, 0)\n",
    "\n",
    "def delta_ra(dates):\n",
    "    \n",
    "    dts = (dateobj - equinox(dateobj.year) for dateobj in dates)\n",
    "    return np.array([dt.days for dt in dts])"
   ]
  },
  {
   "cell_type": "code",
   "execution_count": 7,
   "metadata": {},
   "outputs": [],
   "source": [
    "# September 4th at 21:00 EST\n",
    "after = 2458747.583\n",
    "# Compute the next transit\n",
    "rem = (after - data[\"tzero_tr\"]) % data[\"orbital_period\"]\n",
    "obsday = after - rem + data[\"orbital_period\"]\n",
    "\n",
    "for i in obsday.index:\n",
    "    \n",
    "    while not (0.583 <= obsday[i] % 1 <= 0.708): obsday[i] += data[\"orbital_period\"][i]\n",
    "    \n",
    "data['obsday'] = obsday"
   ]
  },
  {
   "cell_type": "code",
   "execution_count": 8,
   "metadata": {},
   "outputs": [],
   "source": [
    "at_stony = EarthLocation(lat=40.914224*u.deg, lon=-73.11623*u.deg, height=0)\n",
    "skycoords = SkyCoord(data['ra']*u.deg, data['dec']*u.deg, frame='icrs')\n",
    "times = Time(data['obsday'], format='jd')\n",
    "altaz = AltAz(location=at_stony, obstime=times)\n",
    "aacoords = skycoords.transform_to(altaz)\n",
    "\n",
    "data[\"alt\"] = aacoords.alt\n",
    "data[\"az\"] = aacoords.az\n",
    "data = data[data[\"alt\"] > 40]"
   ]
  },
  {
   "cell_type": "code",
   "execution_count": 9,
   "metadata": {},
   "outputs": [],
   "source": [
    "# data = data[data[\"dec\"] > -19]\n",
    "# dra = delta_ra(from_jd(data[\"tzero_tr\"]))\n",
    "# ra = (dra * 360 / 365.25 + 180 + 75) % 360\n",
    "# data[\"ra\"] = ra\n",
    "# data = data[ra > 285]"
   ]
  },
  {
   "cell_type": "code",
   "execution_count": 10,
   "metadata": {},
   "outputs": [
    {
     "name": "stdout",
     "output_type": "stream",
     "text": [
      "320 2019-09-28 11:58:22\n",
      "695 2019-09-20 10:25:29\n",
      "3826 2019-09-23 10:00:38\n",
      "3946 2019-10-01 11:51:40\n"
     ]
    }
   ],
   "source": [
    "data['obsday'] -= 5 / 24\n",
    "\n",
    "for i, date in zip(data[\"obsday\"].index, from_jd(data[\"obsday\"])):\n",
    "    \n",
    "    print(i, date)"
   ]
  },
  {
   "cell_type": "code",
   "execution_count": 11,
   "metadata": {},
   "outputs": [
    {
     "data": {
      "text/html": [
       "<div>\n",
       "<style scoped>\n",
       "    .dataframe tbody tr th:only-of-type {\n",
       "        vertical-align: middle;\n",
       "    }\n",
       "\n",
       "    .dataframe tbody tr th {\n",
       "        vertical-align: top;\n",
       "    }\n",
       "\n",
       "    .dataframe thead th {\n",
       "        text-align: right;\n",
       "    }\n",
       "</style>\n",
       "<table border=\"1\" class=\"dataframe\">\n",
       "  <thead>\n",
       "    <tr style=\"text-align: right;\">\n",
       "      <th></th>\n",
       "      <th>ra</th>\n",
       "      <th>dec</th>\n",
       "      <th>transit_sig</th>\n",
       "      <th>transit_dur</th>\n",
       "      <th>alt</th>\n",
       "      <th>az</th>\n",
       "    </tr>\n",
       "  </thead>\n",
       "  <tbody>\n",
       "    <tr>\n",
       "      <th>320</th>\n",
       "      <td>9.575000</td>\n",
       "      <td>42.463056</td>\n",
       "      <td>0.011971</td>\n",
       "      <td>2.954782</td>\n",
       "      <td>88.263412</td>\n",
       "      <td>17.227400</td>\n",
       "    </tr>\n",
       "    <tr>\n",
       "      <th>695</th>\n",
       "      <td>300.179167</td>\n",
       "      <td>22.710833</td>\n",
       "      <td>0.022135</td>\n",
       "      <td>2.019375</td>\n",
       "      <td>53.672104</td>\n",
       "      <td>251.693643</td>\n",
       "    </tr>\n",
       "    <tr>\n",
       "      <th>3826</th>\n",
       "      <td>286.808333</td>\n",
       "      <td>49.316389</td>\n",
       "      <td>0.015612</td>\n",
       "      <td>2.468977</td>\n",
       "      <td>55.872362</td>\n",
       "      <td>300.722504</td>\n",
       "    </tr>\n",
       "    <tr>\n",
       "      <th>3946</th>\n",
       "      <td>3.962500</td>\n",
       "      <td>1.200556</td>\n",
       "      <td>0.012462</td>\n",
       "      <td>2.721241</td>\n",
       "      <td>49.999685</td>\n",
       "      <td>189.681904</td>\n",
       "    </tr>\n",
       "  </tbody>\n",
       "</table>\n",
       "</div>"
      ],
      "text/plain": [
       "              ra        dec  transit_sig  transit_dur        alt          az\n",
       "320     9.575000  42.463056     0.011971     2.954782  88.263412   17.227400\n",
       "695   300.179167  22.710833     0.022135     2.019375  53.672104  251.693643\n",
       "3826  286.808333  49.316389     0.015612     2.468977  55.872362  300.722504\n",
       "3946    3.962500   1.200556     0.012462     2.721241  49.999685  189.681904"
      ]
     },
     "execution_count": 11,
     "metadata": {},
     "output_type": "execute_result"
    }
   ],
   "source": [
    "data[['ra', 'dec', 'transit_sig', 'transit_dur', 'alt', 'az']]"
   ]
  }
 ],
 "metadata": {
  "kernelspec": {
   "display_name": "ast443",
   "language": "python",
   "name": "ast443"
  },
  "language_info": {
   "codemirror_mode": {
    "name": "ipython",
    "version": 3
   },
   "file_extension": ".py",
   "mimetype": "text/x-python",
   "name": "python",
   "nbconvert_exporter": "python",
   "pygments_lexer": "ipython3",
   "version": "3.7.4"
  }
 },
 "nbformat": 4,
 "nbformat_minor": 2
}
