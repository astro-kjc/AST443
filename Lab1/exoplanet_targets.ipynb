{
 "cells": [
  {
   "cell_type": "code",
   "execution_count": 1,
   "metadata": {},
   "outputs": [],
   "source": [
    "import pandas as pd\n",
    "import numpy as np"
   ]
  },
  {
   "cell_type": "code",
   "execution_count": 2,
   "metadata": {},
   "outputs": [],
   "source": [
    "file = \"data/exoplanet.eu_catalog.csv\""
   ]
  },
  {
   "cell_type": "code",
   "execution_count": 3,
   "metadata": {},
   "outputs": [],
   "source": [
    "data = pd.read_csv(file, skiprows=0, usecols=['radius', 'orbital_period', 'ra', 'dec', 'mag_v', \n",
    "                                              'star_distance', 'star_radius', 'semi_major_axis',\n",
    "                                              'eccentricity', 'tzero_tr'])"
   ]
  },
  {
   "cell_type": "code",
   "execution_count": 4,
   "metadata": {},
   "outputs": [],
   "source": [
    "# We want to drop rows with null planet and stellar radii\n",
    "# We also need the V-band magnitudes\n",
    "data = data.dropna(subset={\"radius\", \"star_radius\", \"mag_v\", \"tzero_tr\"})\n",
    "# We want only stars with mag_v ~< 12\n",
    "data = data[data[\"mag_v\"] < 12]\n",
    "\n",
    "# Now compute transit depth for each\n",
    "transit_depth = (0.10049*data[\"radius\"] / data[\"star_radius\"])**2\n",
    "# Compute transit signature in magnitudes\n",
    "transit_sig = -2.5 * np.log10(1 - transit_depth)\n",
    "# Drop all rows where transit signature is < 0.008\n",
    "data = data[transit_sig > 0.008]"
   ]
  },
  {
   "cell_type": "code",
   "execution_count": 5,
   "metadata": {},
   "outputs": [],
   "source": [
    "semi_minor_axis = data[\"semi_major_axis\"] * np.sqrt(1 - data[\"eccentricity\"]**2)\n",
    "# This is the lower bound on circumference\n",
    "circ = np.sqrt(2) * np.pi * np.sqrt(data[\"semi_major_axis\"]**2 + semi_minor_axis**2)\n",
    "# Velocity in meters per hour\n",
    "veloc = circ / data[\"orbital_period\"] * 1.496e11 / 24\n",
    "# Very rough duration estimate\n",
    "transit_dur = 2 * data[\"star_radius\"] * 6.957e8 / veloc\n",
    "# Keep transit duration under 3 hours\n",
    "data = data[transit_dur < 3]"
   ]
  },
  {
   "cell_type": "code",
   "execution_count": 6,
   "metadata": {},
   "outputs": [],
   "source": [
    "data = data[data[\"dec\"] > -19]\n",
    "\n",
    "ra = (data[\"ra\"] + 180) % 360\n",
    "data = data[ra > 285]"
   ]
  },
  {
   "cell_type": "code",
   "execution_count": 7,
   "metadata": {},
   "outputs": [
    {
     "name": "stdout",
     "output_type": "stream",
     "text": [
      "2458735.4547449993 2458746.34906 2458737.300653599 2458733.313034\n"
     ]
    }
   ],
   "source": [
    "# September 5th at 19:00\n",
    "after = 2458731.29167\n",
    "# Compute the next transit\n",
    "rem = (after - data[\"tzero_tr\"]) % data[\"orbital_period\"]\n",
    "obsday = after - rem + data[\"orbital_period\"]\n",
    "\n",
    "for i in obsday.index:\n",
    "    \n",
    "    while not (0.3 <= obsday[i] % 1 <= 0.5): obsday[i] += data[\"orbital_period\"][i]\n",
    "        \n",
    "print(*obsday)"
   ]
  },
  {
   "cell_type": "code",
   "execution_count": 8,
   "metadata": {},
   "outputs": [
    {
     "data": {
      "text/html": [
       "<div>\n",
       "<style scoped>\n",
       "    .dataframe tbody tr th:only-of-type {\n",
       "        vertical-align: middle;\n",
       "    }\n",
       "\n",
       "    .dataframe tbody tr th {\n",
       "        vertical-align: top;\n",
       "    }\n",
       "\n",
       "    .dataframe thead th {\n",
       "        text-align: right;\n",
       "    }\n",
       "</style>\n",
       "<table border=\"1\" class=\"dataframe\">\n",
       "  <thead>\n",
       "    <tr style=\"text-align: right;\">\n",
       "      <th></th>\n",
       "      <th>radius</th>\n",
       "      <th>orbital_period</th>\n",
       "      <th>semi_major_axis</th>\n",
       "      <th>eccentricity</th>\n",
       "      <th>tzero_tr</th>\n",
       "      <th>ra</th>\n",
       "      <th>dec</th>\n",
       "      <th>mag_v</th>\n",
       "      <th>star_distance</th>\n",
       "      <th>star_radius</th>\n",
       "    </tr>\n",
       "  </thead>\n",
       "  <tbody>\n",
       "    <tr>\n",
       "      <th>326</th>\n",
       "      <td>0.867</td>\n",
       "      <td>2.875317</td>\n",
       "      <td>0.03610</td>\n",
       "      <td>0.015</td>\n",
       "      <td>2.456708e+06</td>\n",
       "      <td>111.916667</td>\n",
       "      <td>24.336389</td>\n",
       "      <td>11.34</td>\n",
       "      <td>70.0</td>\n",
       "      <td>0.694</td>\n",
       "    </tr>\n",
       "    <tr>\n",
       "      <th>328</th>\n",
       "      <td>1.080</td>\n",
       "      <td>3.212220</td>\n",
       "      <td>0.04140</td>\n",
       "      <td>0.016</td>\n",
       "      <td>2.456707e+06</td>\n",
       "      <td>155.683333</td>\n",
       "      <td>50.128333</td>\n",
       "      <td>9.73</td>\n",
       "      <td>82.0</td>\n",
       "      <td>1.040</td>\n",
       "    </tr>\n",
       "    <tr>\n",
       "      <th>3856</th>\n",
       "      <td>1.137</td>\n",
       "      <td>1.755414</td>\n",
       "      <td>0.02918</td>\n",
       "      <td>0.000</td>\n",
       "      <td>2.456406e+06</td>\n",
       "      <td>160.602542</td>\n",
       "      <td>7.435083</td>\n",
       "      <td>11.12</td>\n",
       "      <td>143.0</td>\n",
       "      <td>0.930</td>\n",
       "    </tr>\n",
       "    <tr>\n",
       "      <th>4048</th>\n",
       "      <td>0.973</td>\n",
       "      <td>2.615838</td>\n",
       "      <td>0.03690</td>\n",
       "      <td>0.045</td>\n",
       "      <td>2.454148e+06</td>\n",
       "      <td>117.029167</td>\n",
       "      <td>50.225833</td>\n",
       "      <td>11.18</td>\n",
       "      <td>149.0</td>\n",
       "      <td>0.964</td>\n",
       "    </tr>\n",
       "  </tbody>\n",
       "</table>\n",
       "</div>"
      ],
      "text/plain": [
       "      radius  orbital_period  semi_major_axis  eccentricity      tzero_tr  \\\n",
       "326    0.867        2.875317          0.03610         0.015  2.456708e+06   \n",
       "328    1.080        3.212220          0.04140         0.016  2.456707e+06   \n",
       "3856   1.137        1.755414          0.02918         0.000  2.456406e+06   \n",
       "4048   0.973        2.615838          0.03690         0.045  2.454148e+06   \n",
       "\n",
       "              ra        dec  mag_v  star_distance  star_radius  \n",
       "326   111.916667  24.336389  11.34           70.0        0.694  \n",
       "328   155.683333  50.128333   9.73           82.0        1.040  \n",
       "3856  160.602542   7.435083  11.12          143.0        0.930  \n",
       "4048  117.029167  50.225833  11.18          149.0        0.964  "
      ]
     },
     "execution_count": 8,
     "metadata": {},
     "output_type": "execute_result"
    }
   ],
   "source": [
    "data"
   ]
  }
 ],
 "metadata": {
  "kernelspec": {
   "display_name": "Python 3",
   "language": "python",
   "name": "python3"
  },
  "language_info": {
   "codemirror_mode": {
    "name": "ipython",
    "version": 3
   },
   "file_extension": ".py",
   "mimetype": "text/x-python",
   "name": "python",
   "nbconvert_exporter": "python",
   "pygments_lexer": "ipython3",
   "version": "3.7.4"
  }
 },
 "nbformat": 4,
 "nbformat_minor": 2
}
