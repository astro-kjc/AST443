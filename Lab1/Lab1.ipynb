{
 "cells": [
  {
   "cell_type": "code",
   "execution_count": 1,
   "metadata": {},
   "outputs": [],
   "source": [
    "import glob\n",
    "import os\n",
    "import numpy as np\n",
    "import pandas as pd\n",
    "import matplotlib.pyplot as plt\n",
    "from astropy.io import fits"
   ]
  },
  {
   "cell_type": "markdown",
   "metadata": {},
   "source": [
    "# Bad Pixel Map"
   ]
  },
  {
   "cell_type": "code",
   "execution_count": 2,
   "metadata": {},
   "outputs": [],
   "source": [
    "def load_plz(pattern):\n",
    "    \n",
    "    files = sorted(glob.glob(pattern))\n",
    "    files = map(fits.open, files)\n",
    "    files = [file[0].data.flatten() for file in files]\n",
    "    return np.array(files)\n",
    "    \n",
    "def lazy_load_plz(pattern):\n",
    "    \n",
    "    files = sorted(glob.glob(pattern))\n",
    "    files = map(fits.open, files)\n",
    "    return files\n",
    "\n",
    "def num_sd(arr):\n",
    "    \n",
    "    return np.abs(arr - arr.mean()) / arr.std()"
   ]
  },
  {
   "cell_type": "code",
   "execution_count": 3,
   "metadata": {},
   "outputs": [],
   "source": [
    "darks = load_plz(\"data/*DARK*\")\n",
    "dark_master = np.median(darks, axis=0)\n",
    "\n",
    "flats = load_plz(\"data/*FLAT*\")\n",
    "flat_master = np.median(flats, axis=0)\n",
    "flat_master /= np.median(flat_master)\n",
    "\n",
    "dark_sigma = num_sd(dark_master)\n",
    "dark_mask = dark_sigma < 5\n",
    "\n",
    "flat_sigma = num_sd(flat_master)\n",
    "flat_mask = flat_sigma < 5\n",
    "\n",
    "big_mask = flat_mask * dark_mask\n",
    "dim = int(np.sqrt(len(big_mask)))\n",
    "big_mask2d = np.reshape(big_mask, (dim, dim))"
   ]
  },
  {
   "cell_type": "code",
   "execution_count": 4,
   "metadata": {},
   "outputs": [],
   "source": [
    "science_images = lazy_load_plz(\"data/Science_image*\")\n",
    "hdul = next(science_images)\n",
    "\n",
    "mask_hdu = fits.PrimaryHDU(big_mask2d.astype(np.int32))\n",
    "mask_hdul = fits.HDUList([mask_hdu])\n",
    "try: mask_hdul.writeto(f\"data/bad_pixels.fits\")\n",
    "except OSError: pass"
   ]
  },
  {
   "cell_type": "markdown",
   "metadata": {},
   "source": [
    "# Convert Catalog Files to Light Curves"
   ]
  },
  {
   "cell_type": "code",
   "execution_count": 5,
   "metadata": {},
   "outputs": [],
   "source": [
    "def load_cat(filename):\n",
    "\n",
    "    return pd.read_csv(filename, sep=r'\\s+', skiprows=5, header=None, names=['Num','Ra', 'Dec',\n",
    "            'Flux', 'Flux_err'])\n",
    "\n",
    "def load_time(file_num):\n",
    "    \n",
    "    file_name = \"Science_image.\" + file_num + \".FIT\"\n",
    "    file, = lazy_load_plz(\"data/\" +file_name)\n",
    "    time_string = file[0].header[\"TIME-OBS\"]\n",
    "    h, m, s = map(float, time_string.strip().split(':'))\n",
    "    seconds = 3600*h + 60*m + s\n",
    "    return seconds"
   ]
  },
  {
   "cell_type": "code",
   "execution_count": 6,
   "metadata": {},
   "outputs": [],
   "source": [
    "def distances(starcoords, catframe):\n",
    "    \"\"\"\n",
    "    Compute angular distance between a reference star and all sources in a dataframe,\n",
    "    assuming a small separation.\n",
    "    \"\"\"\n",
    "    \n",
    "    alpha, delta = starcoords\n",
    "    dra = (alpha - catframe['Ra']) * np.cos(delta)\n",
    "    ddec = delta - catframe['Dec']\n",
    "    return np.sqrt(dra**2 + ddec**2)\n",
    "    \n",
    "def fuzzy_match(starcoords, catframe, eps=1e-3):\n",
    "    \"\"\"\n",
    "    Match the star with the given coordinates to the nearest source in the frame. Returns\n",
    "    None if the distance between the star and the closest match is > eps.\n",
    "    \"\"\"\n",
    "    \n",
    "    gamma = distances(starcoords, catframe)\n",
    "    indx = gamma.idxmin()\n",
    "    \n",
    "    if gamma[indx] <= eps:\n",
    "        return catframe.loc[indx]\n",
    "    return None"
   ]
  },
  {
   "cell_type": "code",
   "execution_count": 7,
   "metadata": {},
   "outputs": [],
   "source": [
    "def init_refstars(kitty):\n",
    "    \"\"\" Select the set of stars to serve as reference stars from a dataframe. \"\"\"\n",
    "    \n",
    "    kitty.sort_values(by='Flux', ascending=False, inplace=True)\n",
    "\n",
    "    mask = kitty['Ra'] >= 300\n",
    "    mask &= kitty['Ra'] <= 300.25\n",
    "    mask &= kitty['Dec'] >= 22.5\n",
    "    mask &= kitty['Dec'] <= 22.8\n",
    "\n",
    "    masked_kitty = kitty[mask][:NUMREF]\n",
    "    return np.array([masked_kitty['Ra'], masked_kitty['Dec']]).T"
   ]
  },
  {
   "cell_type": "code",
   "execution_count": 8,
   "metadata": {},
   "outputs": [],
   "source": [
    "kitties = glob.glob(\"data/*.cat\")\n",
    "kitties = sorted(kitties)"
   ]
  },
  {
   "cell_type": "code",
   "execution_count": 9,
   "metadata": {},
   "outputs": [
    {
     "name": "stdout",
     "output_type": "stream",
     "text": [
      "[##################################################] 100%\n"
     ]
    }
   ],
   "source": [
    "t = np.zeros(len(kitties), dtype=np.float64)\n",
    "NUMREF = 15\n",
    "reference_stars = None\n",
    "time_series = [list() for i in range(NUMREF)]\n",
    "indices = [list() for i in range(NUMREF)]\n",
    "\n",
    "for i, cat_name in enumerate(kitties):\n",
    "\n",
    "    # Load the catalog file and the corresponding time\n",
    "    kitty = load_cat(cat_name)\n",
    "    cat_num = cat_name.split('.')[-3]\n",
    "    time = load_time(cat_num)\n",
    "        \n",
    "    # Initialize the reference stars\n",
    "    if reference_stars is None:\n",
    "        reference_stars = init_refstars(kitty)\n",
    "    # Skip the frame if no data exist\n",
    "    if len(kitty) <= 0: continue\n",
    "    \n",
    "    # Loop through the refernce stars and try to locate them in the frame\n",
    "    for j, starcoords in enumerate(reference_stars):\n",
    "            \n",
    "        match = fuzzy_match(starcoords, kitty)\n",
    "        if match is not None:\n",
    "            time_series[j].append(match)\n",
    "            indices[j].append(i)\n",
    "    \n",
    "    # Log the time for this frame\n",
    "    t[i] = time\n",
    "    \n",
    "    # Print progress\n",
    "    prog = i / len(kitties)\n",
    "    numspace = int(50*(1-prog))\n",
    "    pbar = \"[\" + \"#\" * (50-numspace) + \" \" * numspace + \"]\"\n",
    "    end = \"\" if i < len(kitties) - 1 else \"\\n\"\n",
    "    print(f\"\\r{pbar} {100*prog:.0f}%\", end=end)"
   ]
  },
  {
   "cell_type": "code",
   "execution_count": 10,
   "metadata": {},
   "outputs": [],
   "source": [
    "def get_field(row_list, field):\n",
    "    \"\"\" Helper to make the generator comprehensions prettier. \"\"\"\n",
    "    \n",
    "    return [row[field] for row in row_list]\n",
    "\n",
    "# Get an array of fluxes for each star\n",
    "flux = (get_field(row_list, \"Flux\") for row_list in time_series)\n",
    "flux = list(map(np.array, flux))\n",
    "\n",
    "# Get the corresponding uncertainties\n",
    "flux_err = (get_field(row_list, \"Flux_err\") for row_list in time_series)\n",
    "flux_err = list(map(np.array, flux_err))\n",
    "\n",
    "# Get the mean for each star, and then divide by it\n",
    "mu = [flux_arr.mean() for flux_arr in flux]\n",
    "flux = [flux[i] / mu[i] for i in range(len(flux))]\n",
    "flux_err = [flux_err[i] / mu[i] for i in range(len(flux_err))]"
   ]
  },
  {
   "cell_type": "code",
   "execution_count": 11,
   "metadata": {},
   "outputs": [],
   "source": [
    "# Save all of the data files\n",
    "\n",
    "if not os.path.isdir(\"lightcurves\"):\n",
    "    os.mkdir(\"lightcurves\")\n",
    "\n",
    "for i in range(NUMREF):\n",
    "    if not os.path.isdir(f\"lightcurves/star_{i}\"):\n",
    "        os.mkdir(f\"lightcurves/star_{i}\")\n",
    "\n",
    "np.savetxt(\"lightcurves/ref_stars.csv\", reference_stars, header=\"RA Dec\", delimiter=\",\")\n",
    "np.savetxt(\"lightcurves/times.csv\", t, delimiter=\",\")\n",
    "\n",
    "for i in range(NUMREF):\n",
    "    np.savetxt(f\"lightcurves/star_{i}/flux_{i}.csv\", flux[i], delimiter=\",\")\n",
    "    np.savetxt(f\"lightcurves/star_{i}/flux_err_{i}.csv\", flux_err[i], delimiter=\",\")\n",
    "    np.savetxt(f\"lightcurves/star_{i}/indices_{i}.csv\", indices[i], delimiter=\",\")"
   ]
  },
  {
   "cell_type": "code",
   "execution_count": 12,
   "metadata": {},
   "outputs": [
    {
     "data": {
      "image/png": "[encoded data removed]",
      "text/plain": [
       "<Figure size 432x288 with 1 Axes>"
      ]
     },
     "metadata": {
      "needs_background": "light"
     },
     "output_type": "display_data"
    }
   ],
   "source": [
    "# Plot and save lightcurves\n",
    "# I tried a bunch of subplots, but they weren't really readable\n",
    "\n",
    "for i in range(NUMREF):\n",
    "\n",
    "    ra, dec = reference_stars[i]\n",
    "    plt.errorbar(t[indices[i]], flux[i], flux_err[i], fmt='.',\n",
    "            label=rf\"$\\alpha$ = {ra:.2f}$^\\circ$, $\\delta$ = {dec:.2f}$^\\circ$\")\n",
    "    plt.xlabel(\"Time Since Midnight UTC [s]\")\n",
    "    plt.ylabel(r\"$\\frac{f}{\\langle f \\rangle}$\")\n",
    "    plt.legend()\n",
    "    plt.savefig(f\"lightcurves/star_{i}/lightcurve_{i}.png\", dpi=600)\n",
    "    if i < NUMREF-1: plt.gcf().clear()"
   ]
  },
  {
   "cell_type": "markdown",
   "metadata": {},
   "source": [
    "# Extract Transit and Compute Properties"
   ]
  },
  {
   "cell_type": "code",
   "execution_count": 13,
   "metadata": {},
   "outputs": [],
   "source": [
    "class Star:\n",
    "    \"\"\" Class for storing and manipulating star light curve data. \"\"\"\n",
    "\n",
    "    starcoords = np.loadtxt(\"lightcurves/ref_stars.csv\", delimiter=\",\")\n",
    "    times = np.loadtxt(\"lightcurves/times.csv\", delimiter=\",\")\n",
    "\n",
    "    def __init__(self, index):\n",
    "\n",
    "        directory = f\"lightcurves/star_{index}\"\n",
    "        self.ra, self.dec = self.starcoords[index]\n",
    "        self.flux = np.loadtxt(os.path.join(directory, f\"flux_{index}.csv\"), delimiter=\",\")\n",
    "        self.flux_err = np.loadtxt(os.path.join(directory, f\"flux_err_{index}.csv\"), delimiter=\",\")\n",
    "        self.indices = np.loadtxt(os.path.join(directory, f\"indices_{index}.csv\"), dtype=np.int32, delimiter=\",\")\n",
    "\n",
    "    def __str__(self):\n",
    "\n",
    "        return f\"Star(RA={self.ra:.3f}, Dec={self.dec:.3f})\"\n",
    "\n",
    "    def trim(self, sigma_tol=3):\n",
    "        \"\"\" Trim points a certain number of standard deviations from the mean flux. \"\"\"\n",
    "\n",
    "        mu_flux = self.flux.mean()\n",
    "        std_flux = self.flux.std()\n",
    "        num_sd = np.abs(self.flux - mu_flux) / std_flux\n",
    "\n",
    "        mask = num_sd <= sigma_tol\n",
    "        self.flux = self.flux[mask]\n",
    "        self.flux_err = self.flux_err[mask]\n",
    "        self.indices = self.indices[mask]\n",
    "\n",
    "    def plot(self, binsize=None, figsize=(12, 9), vlines=()):\n",
    "        \"\"\" Plot the star's light curve, binning if a binsize is provided. \"\"\"\n",
    "\n",
    "        if binsize is None:\n",
    "            times = self.times[self.indices]\n",
    "            flux = self.flux\n",
    "            flux_err = self.flux_err\n",
    "        else:\n",
    "            times = np.arange(Star.times[0] + binsize/2, Star.times[-1] - binsize/2, step=binsize)\n",
    "            flux, flux_err = self.bin_fluxes(binsize)\n",
    "            flux = flux[:len(times)]\n",
    "            flux_err = flux_err[:len(times)]\n",
    "            \n",
    "        label = rf\"$\\alpha$ = {self.ra:.2f}$^\\circ$, $\\delta$ = {self.dec:.2f}$^\\circ$\"\n",
    "        plt.errorbar(times / 3600, flux, flux_err, fmt='.',\n",
    "                    label=label, markersize=8, capsize=2)\n",
    "        plt.xlabel(\"Time Since Midnight UTC [h]\")\n",
    "        plt.ylabel(r\"$\\frac{f}{\\langle f \\rangle}$\")\n",
    "        plt.legend()\n",
    "\n",
    "        for vline in vlines:\n",
    "            plt.axvline(vline / 3600, color='black', linestyle='--')\n",
    "\n",
    "        plt.gcf().set_size_inches(figsize)\n",
    "\n",
    "    def bin_fluxes(self, binsize):\n",
    "        \"\"\"\n",
    "        Bin fluxes into bins of the given size. Return the mean flux in each bin,\n",
    "        and the uncertainty. Uncertainty is the std divided by sqrt(numpoints).\n",
    "        \"\"\"\n",
    "\n",
    "        nbins = (Star.times[-1] - Star.times[0]) / binsize\n",
    "        scalefac = nbins / len(Star.times)\n",
    "        bindices = np.floor(self.indices * scalefac)\n",
    "        bindices = bindices.astype(np.int32)\n",
    "\n",
    "        binned_flux = np.zeros(bindices.max() + 1)\n",
    "        exp_flux2 = np.zeros(len(binned_flux))\n",
    "        counts = np.zeros(len(binned_flux), dtype=np.int32)\n",
    "        \n",
    "        for i in range(len(self.flux)):\n",
    "            \n",
    "            binned_flux[bindices[i]] += self.flux[i]\n",
    "            exp_flux2[bindices[i]] += self.flux[i]**2\n",
    "            counts[bindices[i]] += 1\n",
    "\n",
    "        binned_flux /= counts\n",
    "        exp_flux2 /= counts\n",
    "        sigma = np.sqrt((exp_flux2 - binned_flux**2) / counts)\n",
    "\n",
    "        return binned_flux, sigma"
   ]
  },
  {
   "cell_type": "code",
   "execution_count": 14,
   "metadata": {},
   "outputs": [],
   "source": [
    "def keep_frames_with_all(stars):\n",
    "    \"\"\" Drops frames where not all stars are visible. \"\"\"\n",
    "\n",
    "    counts = np.zeros(len(Star.times), dtype=np.int32)\n",
    "\n",
    "    for star in stars:\n",
    "        counts[star.indices] += 1\n",
    "\n",
    "    mask = counts == len(stars)\n",
    "    indices = np.arange(0, len(Star.times), dtype=np.int32)\n",
    "    indices = indices[mask]\n",
    "    indices = set(indices)\n",
    "    \n",
    "    @np.vectorize\n",
    "    def valid_indices(i):\n",
    "        return i in indices\n",
    "    \n",
    "    for star in stars:\n",
    "\n",
    "        mask = valid_indices(star.indices)\n",
    "        star.flux = star.flux[mask]\n",
    "        star.flux_err = star.flux_err[mask]\n",
    "        star.indices = star.indices[mask]"
   ]
  },
  {
   "cell_type": "code",
   "execution_count": 15,
   "metadata": {},
   "outputs": [],
   "source": [
    "def err_weighted_mean(stars):\n",
    "    \"\"\" Compute an uncertainty-weighted mean, returning the mean and its uncertainty. \"\"\"\n",
    "\n",
    "    mu = np.zeros(len(Star.times))\n",
    "    sigma = np.zeros(len(Star.times))\n",
    "\n",
    "    for star in stars:\n",
    "\n",
    "        mu[star.indices] += star.flux / star.flux_err**2\n",
    "        sigma[star.indices] += 1 / star.flux_err**2\n",
    "\n",
    "    mu[mu == 0.0] = 1.0\n",
    "    sigma[sigma == 0.0] = 1.0\n",
    "\n",
    "    mu /= sigma\n",
    "    sigma = np.sqrt(1 / sigma)\n",
    "\n",
    "    return mu, sigma"
   ]
  },
  {
   "cell_type": "code",
   "execution_count": 16,
   "metadata": {},
   "outputs": [],
   "source": [
    "# Load stars\n",
    "main_star = Star(0)\n",
    "ref_stars = list(map(Star, range(1, 11)))"
   ]
  },
  {
   "cell_type": "code",
   "execution_count": 17,
   "metadata": {},
   "outputs": [],
   "source": [
    "# Trim outliers from the light curves\n",
    "# The tolerance here is 3 sigma\n",
    "\n",
    "main_star.trim()\n",
    "for star in ref_stars:\n",
    "    star.trim()"
   ]
  },
  {
   "cell_type": "code",
   "execution_count": 18,
   "metadata": {},
   "outputs": [],
   "source": [
    "keep_frames_with_all([main_star] + ref_stars)"
   ]
  },
  {
   "cell_type": "code",
   "execution_count": 19,
   "metadata": {},
   "outputs": [],
   "source": [
    "# Compute weighted mean of reference star fluxes\n",
    "mu, sigma = err_weighted_mean(ref_stars)\n",
    "# Divide that out of our star's flux\n",
    "main_star.flux = main_star.flux / mu[main_star.indices]\n",
    "# Need to account for error in mu\n",
    "main_star.flux_err = main_star.flux_err / mu[main_star.indices]"
   ]
  },
  {
   "cell_type": "code",
   "execution_count": 20,
   "metadata": {},
   "outputs": [],
   "source": [
    "# Figure out which times correspond to the baseline flux\n",
    "baseline_mask = Star.times[main_star.indices] < 9500\n",
    "baseline_mask |= Star.times[main_star.indices] > 15700\n",
    "\n",
    "# Do a linear fit - there is a slight increase in flux\n",
    "baseline_times = Star.times[main_star.indices][baseline_mask]\n",
    "baseline_flux = main_star.flux[baseline_mask]\n",
    "baseline_flux_err = main_star.flux_err[baseline_mask]\n",
    "m, b = np.polyfit(baseline_times, baseline_flux, 1, w=1/baseline_flux_err)\n",
    "baseline = m*Star.times[main_star.indices] + b\n",
    "\n",
    "# Divide out the baseline flux\n",
    "main_star.flux /= baseline\n",
    "main_star.flux_err /= baseline"
   ]
  },
  {
   "cell_type": "code",
   "execution_count": 21,
   "metadata": {},
   "outputs": [],
   "source": [
    "# Estimate start and end times for the transit, peak transit\n",
    "\n",
    "binsize = 180\n",
    "time_bounds = Star.times[0] + binsize/2, Star.times[-1] - binsize/2,\n",
    "bintimes = np.arange(*time_bounds, step=binsize)\n",
    "binned_flux, binned_flux_err = main_star.bin_fluxes(binsize)\n",
    "binned_flux = binned_flux[:len(bintimes)]\n",
    "binned_flux_err = binned_flux_err[:len(bintimes)]\n",
    "\n",
    "def part_of_dip(i):\n",
    "    \"\"\" Determine if a point is part of the dip. \"\"\"\n",
    "\n",
    "    meets_thresh = binned_flux[i] <= thresh\n",
    "    left_mt = right_mt = False\n",
    "    if i > 0: left_mt = binned_flux[i-1] <= thresh\n",
    "    if i < len(bintimes)-1: right_mt = binned_flux[i+1] <= thresh\n",
    "    return meets_thresh & (left_mt | right_mt)\n",
    "\n",
    "thresh = 0.982\n",
    "transit_mask = list(map(part_of_dip, range(len(binned_flux))))\n",
    "peak_transit_times = bintimes[transit_mask]\n",
    "peak_transit_bounds = peak_transit_times[0], peak_transit_times[-1]\n",
    "    \n",
    "thresh = 0.9975\n",
    "transit_mask = list(map(part_of_dip, range(len(binned_flux))))\n",
    "transit_times = bintimes[transit_mask]\n",
    "transit_bounds = transit_times[0], transit_times[-1]\n",
    "\n",
    "start, end = peak_transit_bounds\n",
    "peak_transit = Star.times[main_star.indices] > start\n",
    "peak_transit &= Star.times[main_star.indices] < end\n",
    "transit_flux = main_star.flux[peak_transit]"
   ]
  },
  {
   "cell_type": "code",
   "execution_count": 22,
   "metadata": {},
   "outputs": [
    {
     "data": {
      "image/png": "[encoded data removed]",
      "text/plain": [
       "<Figure size 864x648 with 1 Axes>"
      ]
     },
     "metadata": {
      "needs_background": "light"
     },
     "output_type": "display_data"
    }
   ],
   "source": [
    "# Plot without binning\n",
    "main_star.plot(vlines=transit_bounds+peak_transit_bounds)"
   ]
  },
  {
   "cell_type": "code",
   "execution_count": 23,
   "metadata": {},
   "outputs": [
    {
     "data": {
      "image/png": "[encoded data removed]",
      "text/plain": [
       "<Figure size 864x648 with 1 Axes>"
      ]
     },
     "metadata": {
      "needs_background": "light"
     },
     "output_type": "display_data"
    }
   ],
   "source": [
    "# Plot with binning\n",
    "main_star.plot(binsize, vlines=transit_bounds+peak_transit_bounds)"
   ]
  },
  {
   "cell_type": "code",
   "execution_count": 24,
   "metadata": {},
   "outputs": [
    {
     "name": "stdout",
     "output_type": "stream",
     "text": [
      "Midpoint: 23:29 +- 00:03\n"
     ]
    }
   ],
   "source": [
    "# Compute transit midpoint\n",
    "midpoint = np.median(transit_times)\n",
    "minutes = midpoint // 60 % 60\n",
    "hours = (midpoint // 3600 - 4) % 24\n",
    "print(f\"Midpoint: {hours:.0f}:{minutes:.0f} +- 00:03\")"
   ]
  },
  {
   "cell_type": "code",
   "execution_count": 25,
   "metadata": {},
   "outputs": [
    {
     "name": "stdout",
     "output_type": "stream",
     "text": [
      "Transit Depth: 0.0252 +- 0.0004\n"
     ]
    }
   ],
   "source": [
    "# Compute transit depth\n",
    "transit_depth = 1 - transit_flux.mean()\n",
    "transit_depth_err = transit_flux.std() / np.sqrt(len(transit_flux))\n",
    "print(f\"Transit Depth: {transit_depth:.4f} +- {transit_depth_err:.4f}\")"
   ]
  },
  {
   "cell_type": "code",
   "execution_count": 26,
   "metadata": {},
   "outputs": [
    {
     "name": "stdout",
     "output_type": "stream",
     "text": [
      "Radius Ratio: 0.159 +- 0.001\n"
     ]
    }
   ],
   "source": [
    "# Planet radius\n",
    "rad_rat = np.sqrt(transit_depth)\n",
    "rad_rat_err = transit_depth_err / (2 * rad_rat)\n",
    "print(f\"Radius Ratio: {rad_rat:.3f} +- {rad_rat_err:.3f}\")"
   ]
  },
  {
   "cell_type": "code",
   "execution_count": 27,
   "metadata": {},
   "outputs": [
    {
     "name": "stdout",
     "output_type": "stream",
     "text": [
      "Literature Value: 0.142 +- 0.004\n",
      "Error: 3.62 sigma\n"
     ]
    }
   ],
   "source": [
    "lit_rat = 0.10049*1.138 / 0.805\n",
    "lit_rat_err = np.sqrt((0.027*0.10049 / 0.805)**2 + (0.10049*1.138 / 0.805**2 * 0.016)**2)\n",
    "    \n",
    "comb_err = np.sqrt(rad_rat_err**2 + lit_rat_err**2)\n",
    "num_sd = (rad_rat - lit_rat) / comb_err\n",
    "print(f\"Literature Value: {lit_rat:.3f} +- {lit_rat_err:.3f}\")\n",
    "print(f\"Error: {num_sd:.2f} sigma\")"
   ]
  }
 ],
 "metadata": {
  "kernelspec": {
   "display_name": "ast443",
   "language": "python",
   "name": "ast443"
  },
  "language_info": {
   "codemirror_mode": {
    "name": "ipython",
    "version": 3
   },
   "file_extension": ".py",
   "mimetype": "text/x-python",
   "name": "python",
   "nbconvert_exporter": "python",
   "pygments_lexer": "ipython3",
   "version": "3.7.4"
  }
 },
 "nbformat": 4,
 "nbformat_minor": 2
}
