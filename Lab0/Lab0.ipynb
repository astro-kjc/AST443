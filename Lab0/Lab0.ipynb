{
 "cells": [
  {
   "cell_type": "code",
   "execution_count": 1,
   "metadata": {},
   "outputs": [],
   "source": [
    "from astropy.io import fits\n",
    "from scipy import stats\n",
    "import matplotlib.pyplot as plt\n",
    "import numpy as np\n",
    "import glob"
   ]
  },
  {
   "cell_type": "code",
   "execution_count": 2,
   "metadata": {},
   "outputs": [],
   "source": [
    "biases = sorted(glob.glob(\"data/ccd/*BIAS*\"))\n",
    "biases = list(map(fits.open, biases[:10]))"
   ]
  },
  {
   "cell_type": "code",
   "execution_count": 3,
   "metadata": {},
   "outputs": [],
   "source": [
    "def gaussian(x, A, var, mu):\n",
    "    \n",
    "    return A * np.exp(-(x - mu)**2 / (2 * var))"
   ]
  },
  {
   "cell_type": "code",
   "execution_count": 4,
   "metadata": {},
   "outputs": [
    {
     "data": {
      "image/png": "[encoded data removed]",
      "text/plain": [
       "<Figure size 432x288 with 1 Axes>"
      ]
     },
     "metadata": {
      "needs_background": "light"
     },
     "output_type": "display_data"
    }
   ],
   "source": [
    "bias0 = biases[0][0]\n",
    "bias0d = bias0.data.flatten()\n",
    "bounds = 950, 1050\n",
    "pmf, bins, _ = plt.hist(bias0d, bins=100, range=bounds);\n",
    "\n",
    "avg0 = np.mean(bias0d)\n",
    "mode0 = stats.mode(bias0d)[0][0]\n",
    "med0 = np.median(bias0d)\n",
    "std0 = np.std(bias0d)\n",
    "\n",
    "x = np.linspace(*bounds, num=500)\n",
    "gaussd = gaussian(x, max(pmf), std0**2, avg0)\n",
    "plt.plot(x, gaussd);"
   ]
  },
  {
   "cell_type": "code",
   "execution_count": 5,
   "metadata": {},
   "outputs": [
    {
     "name": "stdout",
     "output_type": "stream",
     "text": [
      "0.040%\n"
     ]
    }
   ],
   "source": [
    "nsd = np.abs((bias0d - avg0) / std0)\n",
    "trimmed = bias0d[nsd < 3]\n",
    "\n",
    "pct_bad = 100 * (1 - len(trimmed) / len(bias0d))\n",
    "print(f'{pct_bad:.3f}%')"
   ]
  },
  {
   "cell_type": "code",
   "execution_count": 6,
   "metadata": {},
   "outputs": [
    {
     "data": {
      "text/plain": [
       "21.334021034554155"
      ]
     },
     "execution_count": 6,
     "metadata": {},
     "output_type": "execute_result"
    }
   ],
   "source": [
    "elec_noise = bias0.header[\"EGAIN\"] * std0\n",
    "elec_noise"
   ]
  },
  {
   "cell_type": "code",
   "execution_count": 7,
   "metadata": {},
   "outputs": [
    {
     "data": {
      "text/plain": [
       "(17.017725321416066, 10.35632089056027)"
      ]
     },
     "execution_count": 7,
     "metadata": {},
     "output_type": "execute_result"
    }
   ],
   "source": [
    "master = sum([bias[0].data.flatten() for bias in biases]) / len(biases)\n",
    "\n",
    "avg = np.mean(master)\n",
    "mode = stats.mode(master)[0][0]\n",
    "med = np.median(master)\n",
    "std = np.std(master)\n",
    "\n",
    "std * np.sqrt(len(biases)), std0"
   ]
  }
 ],
 "metadata": {
  "kernelspec": {
   "display_name": "Python 3",
   "language": "python",
   "name": "python3"
  },
  "language_info": {
   "codemirror_mode": {
    "name": "ipython",
    "version": 3
   },
   "file_extension": ".py",
   "mimetype": "text/x-python",
   "name": "python",
   "nbconvert_exporter": "python",
   "pygments_lexer": "ipython3",
   "version": "3.7.4"
  }
 },
 "nbformat": 4,
 "nbformat_minor": 2
}
