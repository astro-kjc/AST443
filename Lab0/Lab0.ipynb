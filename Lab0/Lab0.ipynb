{
 "cells": [
  {
   "cell_type": "code",
   "execution_count": 1,
   "metadata": {},
   "outputs": [],
   "source": [
    "from astropy.io import fits\n",
    "from scipy import stats\n",
    "import matplotlib.pyplot as plt\n",
    "import numpy as np\n",
    "import glob\n",
    "#import scipy.signal.normalize"
   ]
  },
  {
   "cell_type": "code",
   "execution_count": 2,
   "metadata": {},
   "outputs": [],
   "source": [
    "def gaussian(x, A, var, mu):\n",
    "    return A * np.exp(-(x - mu)**2 / (2 * var))\n",
    "def stas(data):\n",
    "    return np.mean(data), stats.mode(data)[0][0], np.median(data), np.std(data)"
   ]
  },
  {
   "cell_type": "markdown",
   "metadata": {},
   "source": [
    "# 4.1 Bias Frames"
   ]
  },
  {
   "cell_type": "code",
   "execution_count": 3,
   "metadata": {},
   "outputs": [],
   "source": [
    "biases = sorted(glob.glob(\"data/ccd/*BIAS*\"))\n",
    "biases = list(map(fits.open, biases[:10]))"
   ]
  },
  {
   "cell_type": "code",
   "execution_count": 4,
   "metadata": {},
   "outputs": [
    {
     "data": {
      "image/png": "[encoded data removed]",
      "text/plain": [
       "<Figure size 432x288 with 1 Axes>"
      ]
     },
     "metadata": {
      "needs_background": "light"
     },
     "output_type": "display_data"
    }
   ],
   "source": [
    "bias0 = biases[0][0]\n",
    "bias0d = bias0.data.flatten()\n",
    "bounds = 950, 1050\n",
    "pmf, bins, _ = plt.hist(bias0d, bins=100, range=bounds);\n",
    "\n",
    "avg0, mode0, med0, std0 = stas(bias0d)\n",
    "\n",
    "x = np.linspace(*bounds, num=500)\n",
    "gaussd = gaussian(x, max(pmf), std0**2, avg0)\n",
    "plt.plot(x, gaussd);"
   ]
  },
  {
   "cell_type": "code",
   "execution_count": 5,
   "metadata": {},
   "outputs": [
    {
     "name": "stdout",
     "output_type": "stream",
     "text": [
      "Q1 4.1\n",
      "The percent cut defined as 3 standard deviations away is: 0.040%\n"
     ]
    }
   ],
   "source": [
    "nsd = np.abs((bias0d - avg0) / std0)\n",
    "trimmed = bias0d[nsd < 3]\n",
    "\n",
    "pct_bad = 100 * (1 - len(trimmed) / len(bias0d))\n",
    "print(\"Q1 4.1\")\n",
    "print(f'The percent cut defined as 3 standard deviations away is: {pct_bad:.3f}%')"
   ]
  },
  {
   "cell_type": "code",
   "execution_count": 6,
   "metadata": {},
   "outputs": [
    {
     "name": "stdout",
     "output_type": "stream",
     "text": [
      "Our measured read noise is: 21.334021034554155\n",
      "Manufacturer's manual says 14.8 electrons of read noise. \n"
     ]
    }
   ],
   "source": [
    "elec_noise = bias0.header[\"EGAIN\"] * std0\n",
    "print(\"Our measured read noise is:\",elec_noise)\n",
    "print(\"Manufacturer's manual says 14.8 electrons of read noise. \")"
   ]
  },
  {
   "cell_type": "code",
   "execution_count": 7,
   "metadata": {},
   "outputs": [
    {
     "name": "stdout",
     "output_type": "stream",
     "text": [
      "Q2 4.1\n",
      "standard deviation is 10.35632089056027\n",
      "master standard deviation is 5.381477261079577\n",
      "This is a factor of 0.5196321471638412\n",
      "This is not quite 0.31622776601683794\n"
     ]
    }
   ],
   "source": [
    "master_bias = sum([bias[0].data.flatten() for bias in biases]) / len(biases)\n",
    "\n",
    "avg = np.mean(master_bias)\n",
    "mode = stats.mode(master_bias)[0][0]\n",
    "med = np.median(master_bias)\n",
    "std = np.std(master_bias)\n",
    "\n",
    "print(\"Q2 4.1\")\n",
    "print(\"standard deviation is {}\".format(std0))\n",
    "print(\"master standard deviation is {}\".format(std))\n",
    "print(\"This is a factor of {}\".format(std/std0))\n",
    "print(\"This is not quite {}\".format(1/np.sqrt(10)))"
   ]
  },
  {
   "cell_type": "code",
   "execution_count": 8,
   "metadata": {},
   "outputs": [
    {
     "name": "stdout",
     "output_type": "stream",
     "text": [
      "The percent cut defined as 3 standard deviations away is: 0.052%\n",
      "Compared to colder temperature from earlier: 0.040%\n"
     ]
    }
   ],
   "source": [
    "HotBias = list(fits.open(\"data/ccd/m13.00000031.BIAS.FIT\"))\n",
    "HotBias1 = HotBias[0].data.flatten()\n",
    "\n",
    "Hotavg, Hotmode, Hotmedian, Hotstd = stas(HotBias1)\n",
    "\n",
    "trimmed_hot = np.abs((HotBias1-Hotavg)/Hotstd)\n",
    "HotTrim = HotBias1[trimmed_hot < 3]\n",
    "pct_bad_hot = 100 * (1 - len(HotTrim) / len(HotBias1))\n",
    "\n",
    "print(f'The percent cut defined as 3 standard deviations away is: {pct_bad_hot:.3f}%')   \n",
    "print(f'Compared to colder temperature from earlier: {pct_bad:.3f}%')"
   ]
  },
  {
   "cell_type": "markdown",
   "metadata": {},
   "source": [
    "# 4.2 Dark Frames"
   ]
  },
  {
   "cell_type": "code",
   "execution_count": 9,
   "metadata": {},
   "outputs": [],
   "source": [
    "darks = sorted(glob.glob(\"data/ccd/*DARK*\"))\n",
    "darks = list(map(fits.open, darks[:]))"
   ]
  },
  {
   "cell_type": "code",
   "execution_count": 55,
   "metadata": {},
   "outputs": [
    {
     "data": {
      "text/plain": [
       "[1, 2]"
      ]
     },
     "execution_count": 55,
     "metadata": {},
     "output_type": "execute_result"
    }
   ],
   "source": [
    "dark = []\n",
    "for i in range(len(darks)):\n",
    "    dark.append(darks[i][0].data.flatten())"
   ]
  },
  {
   "cell_type": "code",
   "execution_count": 47,
   "metadata": {},
   "outputs": [],
   "source": [
    "Dark_Master = []\n",
    "for j in range(len(dark[15])):\n",
    "    tom = []\n",
    "    for i in range(10):\n",
    "        i = i+10   #account for only the dark frames where the time wasn't modified\n",
    "        tom.append(dark[i][j])\n",
    "    tom.sort()\n",
    "    Dark_Master.append(0.5 * (tom[4] + tom[5]))\n",
    "#do a median combine via sorting "
   ]
  },
  {
   "cell_type": "code",
   "execution_count": 48,
   "metadata": {},
   "outputs": [
    {
     "name": "stdout",
     "output_type": "stream",
     "text": [
      "Average: 1006.2315368652344 \n",
      "Mode: 1001 \n",
      "Median: 1003.0 \n",
      "Standard Deviation: 124.40228307533907 \n",
      "\n"
     ]
    }
   ],
   "source": [
    "Davg, Dode, Ded, Dtd = stas(Dark_Master)\n",
    "print(\"Average: {} \\nMode: {} \\nMedian: {} \\nStandard Deviation: {} \\n\".format(Davg, Dode, Ded, Dtd))"
   ]
  },
  {
   "cell_type": "code",
   "execution_count": 49,
   "metadata": {},
   "outputs": [
    {
     "data": {
      "image/png": "[encoded data removed]",
      "text/plain": [
       "<Figure size 432x288 with 1 Axes>"
      ]
     },
     "metadata": {
      "needs_background": "light"
     },
     "output_type": "display_data"
    }
   ],
   "source": [
    "plt.hist(Dark_Master, bins = 100, range=bounds);"
   ]
  },
  {
   "cell_type": "code",
   "execution_count": 50,
   "metadata": {},
   "outputs": [
    {
     "name": "stdout",
     "output_type": "stream",
     "text": [
      "Fraction of pixels included in this cut: 99.89814758300781\n"
     ]
    }
   ],
   "source": [
    "Dark_trim = np.abs(Dark_Master - Davg)/Dtd\n",
    "Trimmed_Dark_Master = []\n",
    "Hot_Pixel_Count = 0\n",
    "for i in range(len(Dark_Master)):\n",
    "    if Dark_trim[i] < 3:\n",
    "        Trimmed_Dark_Master.append(Dark_Master[i])\n",
    "    if Dark_Master[i] > 60000:\n",
    "        Hot_Pixel_Count = Hot_Pixel_Count+1\n",
    "pct_good_Dark = 100 * ( len(Trimmed_Dark_Master) / len(Dark_Master))\n",
    "print(\"Fraction of pixels included in this cut:\", pct_good_Dark)"
   ]
  },
  {
   "cell_type": "code",
   "execution_count": 51,
   "metadata": {},
   "outputs": [
    {
     "name": "stdout",
     "output_type": "stream",
     "text": [
      "Average: 1004.6389908239364 \n",
      "Mode: 1001 \n",
      "Median: 1003.0 \n",
      "Standard Deviation: 13.97782436467927 \n",
      "\n"
     ]
    }
   ],
   "source": [
    "DTA, DTM, DTMe, DTS = stas(Trimmed_Dark_Master)\n",
    "print(\"Average: {} \\nMode: {} \\nMedian: {} \\nStandard Deviation: {} \\n\".format(DTA, DTM, DTMe, DTS))"
   ]
  },
  {
   "cell_type": "markdown",
   "metadata": {},
   "source": [
    "Standard Derviation changes the most due to the trimming because it goes from 124.6 to 15.5"
   ]
  },
  {
   "cell_type": "markdown",
   "metadata": {},
   "source": [
    "Hot pixels are going to be from the Dark Master and the hot pxels will have counts above 60000"
   ]
  },
  {
   "cell_type": "code",
   "execution_count": 52,
   "metadata": {},
   "outputs": [
    {
     "name": "stdout",
     "output_type": "stream",
     "text": [
      "There are  2  Hot Pixels. I.e. 0.00019 percent of the pixels are hot\n"
     ]
    }
   ],
   "source": [
    "print(\"There are \", Hot_Pixel_Count, \" Hot Pixels. I.e.\", round(Hot_Pixel_Count/len(Dark_Master)*100,5), \"percent\", \n",
    "      \"of the pixels are hot\")"
   ]
  },
  {
   "cell_type": "code",
   "execution_count": 53,
   "metadata": {},
   "outputs": [],
   "source": [
    "SDF = dark[11]\n",
    "SDFA, SDFM, SDFMe, SDFS = stas(dark[0])\n",
    "SDF_trim = np.abs(dark[0] - SDFA)/SDFS\n",
    "SDFTrim = []\n",
    "for i in range(len(SDF)):\n",
    "    if SDF_trim[i] < 3:\n",
    "        SDFTrim.append(SDF[i])\n",
    "pct_good_SDF = 100 * ( len(SDFTrim) / len(SDF))\n",
    "#SDF stands for single dark frame "
   ]
  },
  {
   "cell_type": "markdown",
   "metadata": {},
   "source": [
    "Going from a single dark frame to the master dark frame, the standard deviation increases and the amount of \n",
    "pixels thrown out also increases. "
   ]
  },
  {
   "cell_type": "code",
   "execution_count": 54,
   "metadata": {},
   "outputs": [
    {
     "name": "stdout",
     "output_type": "stream",
     "text": [
      "Single Dark Frame Standard Deviation= 81.84676429496206\n",
      "Master Dark Frame Standard Deviation= 124.40228307533907\n",
      "Percent of good data for single frame= 99.93791580200195\n",
      "Percent of good data for Master frame= 99.89814758300781\n"
     ]
    }
   ],
   "source": [
    "print(\"Single Dark Frame Standard Deviation=\",SDFS)\n",
    "print(\"Master Dark Frame Standard Deviation=\", Dtd) \n",
    "print(\"Percent of good data for single frame=\",pct_good_SDF) \n",
    "print(\"Percent of good data for Master frame=\",pct_good_Dark)"
   ]
  },
  {
   "cell_type": "code",
   "execution_count": 32,
   "metadata": {},
   "outputs": [
    {
     "data": {
      "image/png": "[encoded data removed]",
      "text/plain": [
       "<Figure size 432x288 with 1 Axes>"
      ]
     },
     "metadata": {
      "needs_background": "light"
     },
     "output_type": "display_data"
    }
   ],
   "source": [
    "dark_red = [frame - master_bias for frame in dark]\n",
    "dark_mean = [frame.mean() for frame in dark_red]\n",
    "dark_mean = dark_mean[:10]\n",
    "\n",
    "dark_std = [frame.std() / len(frame)**0.5 for frame in dark_red]\n",
    "dark_std = dark_std[:10]\n",
    "\n",
    "times = np.array([10,39,68,97,126,155,184,213,242,271])\n",
    "plt.errorbar(times, dark_mean, yerr=dark_std, fmt=\"k.\")\n",
    "plt.xlabel(\"Time [s]\")\n",
    "plt.ylabel(\"Mean Count Dark Current\");"
   ]
  },
  {
   "cell_type": "code",
   "execution_count": 20,
   "metadata": {},
   "outputs": [
    {
     "data": {
      "image/png": "[encoded data removed]",
      "text/plain": [
       "<Figure size 432x288 with 1 Axes>"
      ]
     },
     "metadata": {
      "needs_background": "light"
     },
     "output_type": "display_data"
    }
   ],
   "source": [
    "slope, intercept, r_value, p_value, std_err = stats.linregress(times, dark_mean)\n",
    "plt.errorbar(times, dark_mean, yerr=dark_std, fmt=\"k.\")\n",
    "plt.plot(times, slope * times + intercept);"
   ]
  },
  {
   "cell_type": "code",
   "execution_count": 21,
   "metadata": {},
   "outputs": [
    {
     "name": "stdout",
     "output_type": "stream",
     "text": [
      "Electrons per pixel per second: 0.4414221824398863\n"
     ]
    }
   ],
   "source": [
    "print(\"Electrons per pixel per second:\", slope)"
   ]
  },
  {
   "cell_type": "code",
   "execution_count": 36,
   "metadata": {},
   "outputs": [
    {
     "data": {
      "image/png": "[encoded data removed]",
      "text/plain": [
       "<Figure size 432x288 with 1 Axes>"
      ]
     },
     "metadata": {
      "needs_background": "light"
     },
     "output_type": "display_data"
    }
   ],
   "source": [
    "dark_master_red = Dark_Master - master_bias\n",
    "\n",
    "med = np.median(dark_master_red)\n",
    "num_sd = np.abs(dark_master_red - med) / med**0.5\n",
    "dark_master_red = dark_master_red[num_sd < 10]\n",
    "\n",
    "med = np.median(dark_master_red)\n",
    "num_sd = np.abs(dark_master_red - med) / med**0.5\n",
    "dark_master_red = dark_master_red[num_sd < 8]\n",
    "\n",
    "pmf, bins, _ = plt.hist(dark_master_red, bins=50, range=(-30, 50));\n",
    "x = np.linspace(-30, 50, num=250)\n",
    "gauss = gaussian(x, max(pmf), dark_master_red.var(), dark_master_red.mean())\n",
    "plt.plot(x, gauss);"
   ]
  },
  {
   "cell_type": "code",
   "execution_count": 23,
   "metadata": {},
   "outputs": [
    {
     "name": "stdout",
     "output_type": "stream",
     "text": [
      "Hot Dark Current: 15.91317818959554 electrons per pixel per second\n"
     ]
    }
   ],
   "source": [
    "HotDark = list(fits.open(\"data/ccd/m13.00000032.DARK.FIT\"))\n",
    "HotDarkData = HotDark[0].data.flatten()\n",
    "\n",
    "hot_dark_red = HotDarkData - HotBias1\n",
    "print(f\"Hot Dark Current: {hot_dark_red.mean() / 30} electrons per pixel per second\")"
   ]
  },
  {
   "cell_type": "code",
   "execution_count": 45,
   "metadata": {},
   "outputs": [],
   "source": [
    "SDF_red = SDF - master_bias\n",
    "\n",
    "med = np.median(SDF_red)\n",
    "num_sd = np.abs(SDF_red - med) / med**0.5\n",
    "SDF_red = SDF_red[num_sd < 10]\n",
    "\n",
    "med = np.median(SDF_red)\n",
    "num_sd = np.abs(SDF_red - med) / med**0.5\n",
    "SDF_red = SDF_red[num_sd < 8]"
   ]
  },
  {
   "cell_type": "code",
   "execution_count": 46,
   "metadata": {},
   "outputs": [
    {
     "name": "stdout",
     "output_type": "stream",
     "text": [
      "Single Dark Frame Standard Deviation= 6.286859717820886\n",
      "Percent of good data for single frame= 100.0\n",
      "Dark master reduced sd:  7.6489532541136604\n",
      "Dark master reduced pct good:  100.0\n"
     ]
    }
   ],
   "source": [
    "mu = SDF_red.mean()\n",
    "sd = SDF_red.std()\n",
    "num_sd = np.abs(SDF_red - mu) / sd\n",
    "trimmed = SDF_red[num_sd < 3]\n",
    "print(\"Single Dark Frame Standard Deviation=\", sd)\n",
    "print(\"Percent of good data for single frame=\", 100*len(trimmed) / len(SDF_red))\n",
    "mu, sd = dark_master_red.mean(), dark_master_red.std()\n",
    "num_sd = np.abs(dark_master_red - mu) / mu\n",
    "print(\"Dark master reduced sd: \", dark_master_red.std())\n",
    "print(\"Dark master reduced pct good: \", 100*sum(num_sd < 3) / len(dark_master_red))"
   ]
  },
  {
   "cell_type": "markdown",
   "metadata": {},
   "source": [
    "# 4.3 Flat Fields"
   ]
  },
  {
   "cell_type": "code",
   "execution_count": 24,
   "metadata": {},
   "outputs": [
    {
     "data": {
      "image/png": "[encoded data removed]",
      "text/plain": [
       "<Figure size 432x288 with 1 Axes>"
      ]
     },
     "metadata": {
      "needs_background": "light"
     },
     "output_type": "display_data"
    },
    {
     "name": "stdout",
     "output_type": "stream",
     "text": [
      "I think the ones over to the left are deadzos?\n"
     ]
    },
    {
     "data": {
      "image/png": "[encoded data removed]",
      "text/plain": [
       "<Figure size 432x288 with 1 Axes>"
      ]
     },
     "metadata": {
      "needs_background": "light"
     },
     "output_type": "display_data"
    }
   ],
   "source": [
    "flats = sorted(glob.glob(\"data/flat/*\"))\n",
    "flats = list(map(fits.open, flats[:])) \n",
    "flat = []\n",
    "for i in range(10):\n",
    "    flat.append(flats[i][0].data.flatten())\n",
    "    \n",
    "master_flat_field = sum(flat[:])/10\n",
    "plt.hist(master_flat_field, bins = 1000, range = (0,4000));\n",
    "plt.title(\"Un-normalized\")\n",
    "plt.show()\n",
    "print(\"I think the ones over to the left are deadzos?\")\n",
    "\n",
    "normalized_master_flat_field = master_flat_field / np.linalg.norm(master_flat_field)\n",
    "plt.hist(normalized_master_flat_field, bins = 100);\n",
    "plt.title(\"Normalized\");\n",
    "plt.show()"
   ]
  },
  {
   "cell_type": "markdown",
   "metadata": {},
   "source": [
    "4.3.2 - The fraction of the lowest number count to the highest number count is .66 (using ds9)"
   ]
  },
  {
   "cell_type": "code",
   "execution_count": 25,
   "metadata": {},
   "outputs": [],
   "source": [
    "master_flat_2d = np.reshape(master_flat_field, (1024,1024))"
   ]
  },
  {
   "cell_type": "code",
   "execution_count": 26,
   "metadata": {},
   "outputs": [
    {
     "data": {
      "image/png": "[encoded data removed]",
      "text/plain": [
       "<Figure size 432x288 with 1 Axes>"
      ]
     },
     "metadata": {
      "needs_background": "light"
     },
     "output_type": "display_data"
    }
   ],
   "source": [
    "dist = []\n",
    "sensitivity = [] \n",
    "for i in range(len(master_flat_2d)):\n",
    "    for j in range(len(master_flat_2d)):\n",
    "        index_space = np.sqrt( (1023/2 - i)**2 + (1023/2 - j)**2 ) #distance from center\n",
    "        dist.append(index_space * (24.5/1024)) # in mm\n",
    "        sensitivity.append(master_flat_2d[i][j])\n",
    "        \n",
    "plt.scatter(dist, sensitivity, marker='.')\n",
    "plt.xlabel(\"Distance from the center[mm]\")\n",
    "plt.ylabel(\"Count\");"
   ]
  },
  {
   "cell_type": "markdown",
   "metadata": {},
   "source": [
    "4.3.4 - As the distance from the center increases, the observed magnitude would drop"
   ]
  },
  {
   "cell_type": "markdown",
   "metadata": {},
   "source": [
    "4.3.5 - This would assume the CCD is in the same condition. Probably an ok assumption, but since you are using the flat fields to determine the sensitivity of the pixels with correspondance to each other, the correct answer is probably a no. But I think it actually may be fine to take them later?"
   ]
  },
  {
   "cell_type": "code",
   "execution_count": 27,
   "metadata": {},
   "outputs": [],
   "source": [
    "for i in range(len(master_flat_2d)):\n",
    "    for j in range(len(master_flat_2d)):\n",
    "        if master_flat_2d[i][j] > 4000 or master_flat_2d[i][j] < 500:\n",
    "            master_flat_2d[i][j] = 0\n",
    "        else:\n",
    "            master_flat_2d[i][j] = 1"
   ]
  },
  {
   "cell_type": "markdown",
   "metadata": {},
   "source": [
    "4.4.2 - I created an array that has 0 in all dark or hot pixels and all other pixels are one. To use this, multiply this array (elementwise) by the data you measure to remove the \"bad\" pixels."
   ]
  },
  {
   "cell_type": "code",
   "execution_count": 56,
   "metadata": {},
   "outputs": [
    {
     "data": {
      "text/plain": [
       "<matplotlib.image.AxesImage at 0x7f5fef4d9d30>"
      ]
     },
     "execution_count": 56,
     "metadata": {},
     "output_type": "execute_result"
    },
    {
     "data": {
      "image/png": "[encoded data removed]",
      "text/plain": [
       "<Figure size 432x288 with 1 Axes>"
      ]
     },
     "metadata": {
      "needs_background": "light"
     },
     "output_type": "display_data"
    }
   ],
   "source": [
    "normalized_master_flat_field\n",
    "plt.imshow(master_flat_2d)"
   ]
  },
  {
   "cell_type": "code",
   "execution_count": 29,
   "metadata": {},
   "outputs": [
    {
     "ename": "OSError",
     "evalue": "File '../../../new1.fits' already exists.",
     "output_type": "error",
     "traceback": [
      "\u001b[0;31m---------------------------------------------------------------------------\u001b[0m",
      "\u001b[0;31mOSError\u001b[0m                                   Traceback (most recent call last)",
      "\u001b[0;32m<ipython-input-29-e5488e14016a>\u001b[0m in \u001b[0;36m<module>\u001b[0;34m\u001b[0m\n\u001b[1;32m      1\u001b[0m \u001b[0mhdu\u001b[0m  \u001b[0;34m=\u001b[0m \u001b[0mfits\u001b[0m\u001b[0;34m.\u001b[0m\u001b[0mPrimaryHDU\u001b[0m\u001b[0;34m(\u001b[0m\u001b[0mmaster_flat_field\u001b[0m\u001b[0;34m)\u001b[0m\u001b[0;34m\u001b[0m\u001b[0;34m\u001b[0m\u001b[0m\n\u001b[1;32m      2\u001b[0m \u001b[0mhdul\u001b[0m \u001b[0;34m=\u001b[0m \u001b[0mfits\u001b[0m\u001b[0;34m.\u001b[0m\u001b[0mHDUList\u001b[0m\u001b[0;34m(\u001b[0m\u001b[0;34m[\u001b[0m\u001b[0mhdu\u001b[0m\u001b[0;34m]\u001b[0m\u001b[0;34m)\u001b[0m\u001b[0;34m\u001b[0m\u001b[0;34m\u001b[0m\u001b[0m\n\u001b[0;32m----> 3\u001b[0;31m \u001b[0mhdul\u001b[0m\u001b[0;34m.\u001b[0m\u001b[0mwriteto\u001b[0m\u001b[0;34m(\u001b[0m\u001b[0;34m'../../../new1.fits'\u001b[0m\u001b[0;34m)\u001b[0m\u001b[0;34m\u001b[0m\u001b[0;34m\u001b[0m\u001b[0m\n\u001b[0m\u001b[1;32m      4\u001b[0m \u001b[0mhdu\u001b[0m\u001b[0;34m.\u001b[0m\u001b[0mwriteto\u001b[0m\u001b[0;34m(\u001b[0m\u001b[0;34m'../../../new2.fits'\u001b[0m\u001b[0;34m)\u001b[0m\u001b[0;34m\u001b[0m\u001b[0;34m\u001b[0m\u001b[0m\n",
      "\u001b[0;32m~/anaconda3/lib/python3.7/site-packages/astropy/utils/decorators.py\u001b[0m in \u001b[0;36mwrapper\u001b[0;34m(*args, **kwargs)\u001b[0m\n\u001b[1;32m    519\u001b[0m                             \u001b[0mkwargs\u001b[0m\u001b[0;34m[\u001b[0m\u001b[0mnew_name\u001b[0m\u001b[0;34m[\u001b[0m\u001b[0mi\u001b[0m\u001b[0;34m]\u001b[0m\u001b[0;34m]\u001b[0m \u001b[0;34m=\u001b[0m \u001b[0mvalue\u001b[0m\u001b[0;34m\u001b[0m\u001b[0;34m\u001b[0m\u001b[0m\n\u001b[1;32m    520\u001b[0m \u001b[0;34m\u001b[0m\u001b[0m\n\u001b[0;32m--> 521\u001b[0;31m             \u001b[0;32mreturn\u001b[0m \u001b[0mfunction\u001b[0m\u001b[0;34m(\u001b[0m\u001b[0;34m*\u001b[0m\u001b[0margs\u001b[0m\u001b[0;34m,\u001b[0m \u001b[0;34m**\u001b[0m\u001b[0mkwargs\u001b[0m\u001b[0;34m)\u001b[0m\u001b[0;34m\u001b[0m\u001b[0;34m\u001b[0m\u001b[0m\n\u001b[0m\u001b[1;32m    522\u001b[0m \u001b[0;34m\u001b[0m\u001b[0m\n\u001b[1;32m    523\u001b[0m         \u001b[0;32mreturn\u001b[0m \u001b[0mwrapper\u001b[0m\u001b[0;34m\u001b[0m\u001b[0;34m\u001b[0m\u001b[0m\n",
      "\u001b[0;32m~/anaconda3/lib/python3.7/site-packages/astropy/io/fits/hdu/hdulist.py\u001b[0m in \u001b[0;36mwriteto\u001b[0;34m(self, fileobj, output_verify, overwrite, checksum)\u001b[0m\n\u001b[1;32m    917\u001b[0m         \u001b[0;31m# This can accept an open file object that's open to write only, or in\u001b[0m\u001b[0;34m\u001b[0m\u001b[0;34m\u001b[0m\u001b[0;34m\u001b[0m\u001b[0m\n\u001b[1;32m    918\u001b[0m         \u001b[0;31m# append/update modes but only if the file doesn't exist.\u001b[0m\u001b[0;34m\u001b[0m\u001b[0;34m\u001b[0m\u001b[0;34m\u001b[0m\u001b[0m\n\u001b[0;32m--> 919\u001b[0;31m         \u001b[0mfileobj\u001b[0m \u001b[0;34m=\u001b[0m \u001b[0m_File\u001b[0m\u001b[0;34m(\u001b[0m\u001b[0mfileobj\u001b[0m\u001b[0;34m,\u001b[0m \u001b[0mmode\u001b[0m\u001b[0;34m=\u001b[0m\u001b[0mmode\u001b[0m\u001b[0;34m,\u001b[0m \u001b[0moverwrite\u001b[0m\u001b[0;34m=\u001b[0m\u001b[0moverwrite\u001b[0m\u001b[0;34m)\u001b[0m\u001b[0;34m\u001b[0m\u001b[0;34m\u001b[0m\u001b[0m\n\u001b[0m\u001b[1;32m    920\u001b[0m         \u001b[0mhdulist\u001b[0m \u001b[0;34m=\u001b[0m \u001b[0mself\u001b[0m\u001b[0;34m.\u001b[0m\u001b[0mfromfile\u001b[0m\u001b[0;34m(\u001b[0m\u001b[0mfileobj\u001b[0m\u001b[0;34m)\u001b[0m\u001b[0;34m\u001b[0m\u001b[0;34m\u001b[0m\u001b[0m\n\u001b[1;32m    921\u001b[0m         \u001b[0;32mtry\u001b[0m\u001b[0;34m:\u001b[0m\u001b[0;34m\u001b[0m\u001b[0;34m\u001b[0m\u001b[0m\n",
      "\u001b[0;32m~/anaconda3/lib/python3.7/site-packages/astropy/utils/decorators.py\u001b[0m in \u001b[0;36mwrapper\u001b[0;34m(*args, **kwargs)\u001b[0m\n\u001b[1;32m    519\u001b[0m                             \u001b[0mkwargs\u001b[0m\u001b[0;34m[\u001b[0m\u001b[0mnew_name\u001b[0m\u001b[0;34m[\u001b[0m\u001b[0mi\u001b[0m\u001b[0;34m]\u001b[0m\u001b[0;34m]\u001b[0m \u001b[0;34m=\u001b[0m \u001b[0mvalue\u001b[0m\u001b[0;34m\u001b[0m\u001b[0;34m\u001b[0m\u001b[0m\n\u001b[1;32m    520\u001b[0m \u001b[0;34m\u001b[0m\u001b[0m\n\u001b[0;32m--> 521\u001b[0;31m             \u001b[0;32mreturn\u001b[0m \u001b[0mfunction\u001b[0m\u001b[0;34m(\u001b[0m\u001b[0;34m*\u001b[0m\u001b[0margs\u001b[0m\u001b[0;34m,\u001b[0m \u001b[0;34m**\u001b[0m\u001b[0mkwargs\u001b[0m\u001b[0;34m)\u001b[0m\u001b[0;34m\u001b[0m\u001b[0;34m\u001b[0m\u001b[0m\n\u001b[0m\u001b[1;32m    522\u001b[0m \u001b[0;34m\u001b[0m\u001b[0m\n\u001b[1;32m    523\u001b[0m         \u001b[0;32mreturn\u001b[0m \u001b[0mwrapper\u001b[0m\u001b[0;34m\u001b[0m\u001b[0;34m\u001b[0m\u001b[0m\n",
      "\u001b[0;32m~/anaconda3/lib/python3.7/site-packages/astropy/io/fits/file.py\u001b[0m in \u001b[0;36m__init__\u001b[0;34m(self, fileobj, mode, memmap, overwrite, cache)\u001b[0m\n\u001b[1;32m    176\u001b[0m             \u001b[0mself\u001b[0m\u001b[0;34m.\u001b[0m\u001b[0m_open_fileobj\u001b[0m\u001b[0;34m(\u001b[0m\u001b[0mfileobj\u001b[0m\u001b[0;34m,\u001b[0m \u001b[0mmode\u001b[0m\u001b[0;34m,\u001b[0m \u001b[0moverwrite\u001b[0m\u001b[0;34m)\u001b[0m\u001b[0;34m\u001b[0m\u001b[0;34m\u001b[0m\u001b[0m\n\u001b[1;32m    177\u001b[0m         \u001b[0;32melif\u001b[0m \u001b[0misinstance\u001b[0m\u001b[0;34m(\u001b[0m\u001b[0mfileobj\u001b[0m\u001b[0;34m,\u001b[0m \u001b[0mstr\u001b[0m\u001b[0;34m)\u001b[0m\u001b[0;34m:\u001b[0m\u001b[0;34m\u001b[0m\u001b[0;34m\u001b[0m\u001b[0m\n\u001b[0;32m--> 178\u001b[0;31m             \u001b[0mself\u001b[0m\u001b[0;34m.\u001b[0m\u001b[0m_open_filename\u001b[0m\u001b[0;34m(\u001b[0m\u001b[0mfileobj\u001b[0m\u001b[0;34m,\u001b[0m \u001b[0mmode\u001b[0m\u001b[0;34m,\u001b[0m \u001b[0moverwrite\u001b[0m\u001b[0;34m)\u001b[0m\u001b[0;34m\u001b[0m\u001b[0;34m\u001b[0m\u001b[0m\n\u001b[0m\u001b[1;32m    179\u001b[0m         \u001b[0;32melse\u001b[0m\u001b[0;34m:\u001b[0m\u001b[0;34m\u001b[0m\u001b[0;34m\u001b[0m\u001b[0m\n\u001b[1;32m    180\u001b[0m             \u001b[0mself\u001b[0m\u001b[0;34m.\u001b[0m\u001b[0m_open_filelike\u001b[0m\u001b[0;34m(\u001b[0m\u001b[0mfileobj\u001b[0m\u001b[0;34m,\u001b[0m \u001b[0mmode\u001b[0m\u001b[0;34m,\u001b[0m \u001b[0moverwrite\u001b[0m\u001b[0;34m)\u001b[0m\u001b[0;34m\u001b[0m\u001b[0;34m\u001b[0m\u001b[0m\n",
      "\u001b[0;32m~/anaconda3/lib/python3.7/site-packages/astropy/io/fits/file.py\u001b[0m in \u001b[0;36m_open_filename\u001b[0;34m(self, filename, mode, overwrite)\u001b[0m\n\u001b[1;32m    542\u001b[0m \u001b[0;34m\u001b[0m\u001b[0m\n\u001b[1;32m    543\u001b[0m         \u001b[0;32mif\u001b[0m \u001b[0mmode\u001b[0m \u001b[0;34m==\u001b[0m \u001b[0;34m'ostream'\u001b[0m\u001b[0;34m:\u001b[0m\u001b[0;34m\u001b[0m\u001b[0;34m\u001b[0m\u001b[0m\n\u001b[0;32m--> 544\u001b[0;31m             \u001b[0mself\u001b[0m\u001b[0;34m.\u001b[0m\u001b[0m_overwrite_existing\u001b[0m\u001b[0;34m(\u001b[0m\u001b[0moverwrite\u001b[0m\u001b[0;34m,\u001b[0m \u001b[0;32mNone\u001b[0m\u001b[0;34m,\u001b[0m \u001b[0;32mTrue\u001b[0m\u001b[0;34m)\u001b[0m\u001b[0;34m\u001b[0m\u001b[0;34m\u001b[0m\u001b[0m\n\u001b[0m\u001b[1;32m    545\u001b[0m \u001b[0;34m\u001b[0m\u001b[0m\n\u001b[1;32m    546\u001b[0m         \u001b[0;32mif\u001b[0m \u001b[0mos\u001b[0m\u001b[0;34m.\u001b[0m\u001b[0mpath\u001b[0m\u001b[0;34m.\u001b[0m\u001b[0mexists\u001b[0m\u001b[0;34m(\u001b[0m\u001b[0mself\u001b[0m\u001b[0;34m.\u001b[0m\u001b[0mname\u001b[0m\u001b[0;34m)\u001b[0m\u001b[0;34m:\u001b[0m\u001b[0;34m\u001b[0m\u001b[0;34m\u001b[0m\u001b[0m\n",
      "\u001b[0;32m~/anaconda3/lib/python3.7/site-packages/astropy/io/fits/file.py\u001b[0m in \u001b[0;36m_overwrite_existing\u001b[0;34m(self, overwrite, fileobj, closed)\u001b[0m\n\u001b[1;32m    436\u001b[0m                     \u001b[0mos\u001b[0m\u001b[0;34m.\u001b[0m\u001b[0mremove\u001b[0m\u001b[0;34m(\u001b[0m\u001b[0mself\u001b[0m\u001b[0;34m.\u001b[0m\u001b[0mname\u001b[0m\u001b[0;34m)\u001b[0m\u001b[0;34m\u001b[0m\u001b[0;34m\u001b[0m\u001b[0m\n\u001b[1;32m    437\u001b[0m             \u001b[0;32melse\u001b[0m\u001b[0;34m:\u001b[0m\u001b[0;34m\u001b[0m\u001b[0;34m\u001b[0m\u001b[0m\n\u001b[0;32m--> 438\u001b[0;31m                 \u001b[0;32mraise\u001b[0m \u001b[0mOSError\u001b[0m\u001b[0;34m(\u001b[0m\u001b[0;34m\"File {!r} already exists.\"\u001b[0m\u001b[0;34m.\u001b[0m\u001b[0mformat\u001b[0m\u001b[0;34m(\u001b[0m\u001b[0mself\u001b[0m\u001b[0;34m.\u001b[0m\u001b[0mname\u001b[0m\u001b[0;34m)\u001b[0m\u001b[0;34m)\u001b[0m\u001b[0;34m\u001b[0m\u001b[0;34m\u001b[0m\u001b[0m\n\u001b[0m\u001b[1;32m    439\u001b[0m \u001b[0;34m\u001b[0m\u001b[0m\n\u001b[1;32m    440\u001b[0m     \u001b[0;32mdef\u001b[0m \u001b[0m_try_read_compressed\u001b[0m\u001b[0;34m(\u001b[0m\u001b[0mself\u001b[0m\u001b[0;34m,\u001b[0m \u001b[0mobj_or_name\u001b[0m\u001b[0;34m,\u001b[0m \u001b[0mmagic\u001b[0m\u001b[0;34m,\u001b[0m \u001b[0mmode\u001b[0m\u001b[0;34m,\u001b[0m \u001b[0mext\u001b[0m\u001b[0;34m=\u001b[0m\u001b[0;34m''\u001b[0m\u001b[0;34m)\u001b[0m\u001b[0;34m:\u001b[0m\u001b[0;34m\u001b[0m\u001b[0;34m\u001b[0m\u001b[0m\n",
      "\u001b[0;31mOSError\u001b[0m: File '../../../new1.fits' already exists."
     ]
    }
   ],
   "source": [
    "hdu  = fits.PrimaryHDU(master_flat_field)\n",
    "hdul = fits.HDUList([hdu])\n",
    "try:\n",
    "    hdul.writeto('../../../new1.fits')\n",
    "    hdu.writeto('../../../new2.fits')\n",
    "except:\n",
    "    pass"
   ]
  },
  {
   "cell_type": "code",
   "execution_count": null,
   "metadata": {},
   "outputs": [],
   "source": []
  }
 ],
 "metadata": {
  "kernelspec": {
   "display_name": "Python 3",
   "language": "python",
   "name": "python3"
  },
  "language_info": {
   "codemirror_mode": {
    "name": "ipython",
    "version": 3
   },
   "file_extension": ".py",
   "mimetype": "text/x-python",
   "name": "python",
   "nbconvert_exporter": "python",
   "pygments_lexer": "ipython3",
   "version": "3.7.3"
  }
 },
 "nbformat": 4,
 "nbformat_minor": 2
}
