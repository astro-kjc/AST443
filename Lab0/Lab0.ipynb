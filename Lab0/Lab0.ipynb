{
 "cells": [
  {
   "cell_type": "code",
   "execution_count": 4,
   "metadata": {},
   "outputs": [],
   "source": [
    "from astropy.io import fits\n",
    "from scipy import stats\n",
    "import matplotlib.pyplot as plt\n",
    "import numpy as np\n",
    "import glob"
   ]
  },
  {
   "cell_type": "code",
   "execution_count": 5,
   "metadata": {},
   "outputs": [],
   "source": [
    "biases = sorted(glob.glob(\"data/ccd/*BIAS*\"))\n",
    "biases = list(map(fits.open, biases[:10]))"
   ]
  },
  {
   "cell_type": "code",
   "execution_count": 6,
   "metadata": {},
   "outputs": [],
   "source": [
    "def gaussian(x, A, var, mu):\n",
    "    return A * np.exp(-(x - mu)**2 / (2 * var))"
   ]
  },
  {
   "cell_type": "code",
   "execution_count": 7,
   "metadata": {},
   "outputs": [
    {
     "data": {
      "image/png": "[encoded data removed]",
      "text/plain": [
       "<Figure size 432x288 with 1 Axes>"
      ]
     },
     "metadata": {},
     "output_type": "display_data"
    }
   ],
   "source": [
    "bias0 = biases[0][0]\n",
    "bias0d = bias0.data.flatten()\n",
    "bounds = 950, 1050\n",
    "pmf, bins, _ = plt.hist(bias0d, bins=100, range=bounds);\n",
    "\n",
    "avg0 = np.mean(bias0d)\n",
    "mode0 = stats.mode(bias0d)[0][0]\n",
    "med0 = np.median(bias0d)\n",
    "std0 = np.std(bias0d)\n",
    "\n",
    "x = np.linspace(*bounds, num=500)\n",
    "gaussd = gaussian(x, max(pmf), std0**2, avg0)\n",
    "plt.plot(x, gaussd);"
   ]
  },
  {
   "cell_type": "code",
   "execution_count": 21,
   "metadata": {},
   "outputs": [
    {
     "name": "stdout",
     "output_type": "stream",
     "text": [
      "Q1 4.1\n",
      "The percent cut defined as 3 starndard deviations away is: 0.040%\n"
     ]
    }
   ],
   "source": [
    "nsd = np.abs((bias0d - avg0) / std0)\n",
    "trimmed = bias0d[nsd < 3]\n",
    "\n",
    "pct_bad = 100 * (1 - len(trimmed) / len(bias0d))\n",
    "print(\"Q1 4.1\")\n",
    "print(f'The percent cut defined as 3 starndard deviations away is: {pct_bad:.3f}%')"
   ]
  },
  {
   "cell_type": "code",
   "execution_count": 9,
   "metadata": {},
   "outputs": [
    {
     "data": {
      "text/plain": [
       "21.334021034554155"
      ]
     },
     "execution_count": 9,
     "metadata": {},
     "output_type": "execute_result"
    }
   ],
   "source": [
    "elec_noise = bias0.header[\"EGAIN\"] * std0\n",
    "elec_noise"
   ]
  },
  {
   "cell_type": "code",
   "execution_count": 20,
   "metadata": {},
   "outputs": [
    {
     "name": "stdout",
     "output_type": "stream",
     "text": [
      "Q2 4.1\n",
      "standard deviation is 10.35632089056027\n",
      "master standard deviation is 5.381477261079577\n",
      "This is a factor of 0.5196321471638412\n",
      "This is not quite 0.31622776601683794\n"
     ]
    }
   ],
   "source": [
    "master = sum([bias[0].data.flatten() for bias in biases]) / len(biases)\n",
    "\n",
    "avg = np.mean(master)\n",
    "mode = stats.mode(master)[0][0]\n",
    "med = np.median(master)\n",
    "std = np.std(master)\n",
    "\n",
    "print(\"Q2 4.1\")\n",
    "print(\"standard deviation is {}\".format(std0))\n",
    "print(\"master standard deviation is {}\".format(std))\n",
    "print(\"This is a factor of {}\".format(std/std0))\n",
    "print(\"This is not quite {}\".format(1/np.sqrt(10)))"
   ]
  },
  {
   "cell_type": "code",
   "execution_count": 11,
   "metadata": {},
   "outputs": [
    {
     "name": "stdout",
     "output_type": "stream",
     "text": [
      "[<astropy.io.fits.hdu.image.PrimaryHDU object at 0x10ec09198>]\n"
     ]
    }
   ],
   "source": [
    "HotBias = list(fits.open(\"data/ccd/m13.00000031.BIAS.FIT\"))\n",
    "print(HotBias)"
   ]
  },
  {
   "cell_type": "code",
   "execution_count": 12,
   "metadata": {},
   "outputs": [],
   "source": [
    "def stas(data):\n",
    "    return np.mean(data), stats.mode(data)[0][0], np.median(data), np.std(data)"
   ]
  },
  {
   "cell_type": "code",
   "execution_count": 13,
   "metadata": {},
   "outputs": [],
   "source": [
    "HotBias1 = HotBias[0].data.flatten()\n",
    "Hotavg, Hotmode, Hotmedian, Hotstd = stas(HotBias1)"
   ]
  },
  {
   "cell_type": "code",
   "execution_count": 23,
   "metadata": {},
   "outputs": [
    {
     "name": "stdout",
     "output_type": "stream",
     "text": [
      "The percent cut defined as 3 standard deviations away is: 0.052%\n",
      "This is less than 0.04% \n"
     ]
    }
   ],
   "source": [
    "trimmed_hot = np.abs((HotBias1-Hotavg)/Hotstd)\n",
    "HotTrim = HotBias1[trimmed_hot < 3]\n",
    "pct_bad_hot = 100 * (1 - len(HotTrim) / len(HotBias1))\n",
    "print(f'The percent cut defined as 3 standard deviations away is: {pct_bad_hot:.3f}%')   \n"
   ]
  },
  {
   "cell_type": "code",
   "execution_count": null,
   "metadata": {},
   "outputs": [],
   "source": []
  },
  {
   "cell_type": "code",
   "execution_count": null,
   "metadata": {},
   "outputs": [],
   "source": []
  }
 ],
 "metadata": {
  "kernelspec": {
   "display_name": "Python 3",
   "language": "python",
   "name": "python3"
  },
  "language_info": {
   "codemirror_mode": {
    "name": "ipython",
    "version": 3
   },
   "file_extension": ".py",
   "mimetype": "text/x-python",
   "name": "python",
   "nbconvert_exporter": "python",
   "pygments_lexer": "ipython3",
   "version": "3.6.5"
  }
 },
 "nbformat": 4,
 "nbformat_minor": 2
}
