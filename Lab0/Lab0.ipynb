{
 "cells": [
  {
   "cell_type": "code",
   "execution_count": 2,
   "metadata": {},
   "outputs": [],
   "source": [
    "from astropy.io import fits\n",
    "from scipy import stats\n",
    "import matplotlib.pyplot as plt\n",
    "import numpy as np\n",
    "import glob"
   ]
  },
  {
   "cell_type": "code",
   "execution_count": 5,
   "metadata": {},
   "outputs": [],
   "source": [
    "def gaussian(x, A, var, mu):\n",
    "    return A * np.exp(-(x - mu)**2 / (2 * var))\n",
    "def stas(data):\n",
    "    return np.mean(data), stats.mode(data)[0][0], np.median(data), np.std(data)"
   ]
  },
  {
   "cell_type": "markdown",
   "metadata": {},
   "source": [
    "# 4.1 Bias Frames"
   ]
  },
  {
   "cell_type": "code",
   "execution_count": 4,
   "metadata": {},
   "outputs": [],
   "source": [
    "biases = sorted(glob.glob(\"data/ccd/*BIAS*\"))\n",
    "biases = list(map(fits.open, biases[:10]))"
   ]
  },
  {
   "cell_type": "code",
   "execution_count": 7,
   "metadata": {},
   "outputs": [
    {
     "data": {
      "image/png": "[encoded data removed]",
      "text/plain": [
       "<Figure size 432x288 with 1 Axes>"
      ]
     },
     "metadata": {},
     "output_type": "display_data"
    }
   ],
   "source": [
    "bias0 = biases[0][0]\n",
    "bias0d = bias0.data.flatten()\n",
    "bounds = 950, 1050\n",
    "pmf, bins, _ = plt.hist(bias0d, bins=100, range=bounds);\n",
    "\n",
    "avg0, mode0, med0, std0 = stas(bias0d)\n",
    "\n",
    "\n",
    "x = np.linspace(*bounds, num=500)\n",
    "gaussd = gaussian(x, max(pmf), std0**2, avg0)\n",
    "plt.plot(x, gaussd);"
   ]
  },
  {
   "cell_type": "code",
   "execution_count": 8,
   "metadata": {},
   "outputs": [
    {
     "name": "stdout",
     "output_type": "stream",
     "text": [
      "Q1 4.1\n",
      "The percent cut defined as 3 standard deviations away is: 0.040%\n"
     ]
    }
   ],
   "source": [
    "nsd = np.abs((bias0d - avg0) / std0)\n",
    "trimmed = bias0d[nsd < 3]\n",
    "\n",
    "pct_bad = 100 * (1 - len(trimmed) / len(bias0d))\n",
    "print(\"Q1 4.1\")\n",
    "print(f'The percent cut defined as 3 standard deviations away is: {pct_bad:.3f}%')"
   ]
  },
  {
   "cell_type": "code",
   "execution_count": 27,
   "metadata": {},
   "outputs": [
    {
     "name": "stdout",
     "output_type": "stream",
     "text": [
      "Our measured read noise is: 21.334021034554155\n",
      "Manufacturer's manual says 14.8 electrons of read noise. \n"
     ]
    }
   ],
   "source": [
    "elec_noise = bias0.header[\"EGAIN\"] * std0\n",
    "print(\"Our measured read noise is:\",elec_noise)\n",
    "print(\"Manufacturer's manual says 14.8 electrons of read noise. \")"
   ]
  },
  {
   "cell_type": "code",
   "execution_count": 59,
   "metadata": {},
   "outputs": [
    {
     "name": "stdout",
     "output_type": "stream",
     "text": [
      "Q2 4.1\n",
      "standard deviation is 10.35632089056027\n",
      "master standard deviation is 5.381477261079577\n",
      "This is a factor of 0.5196321471638412\n",
      "This is not quite 0.31622776601683794\n"
     ]
    }
   ],
   "source": [
    "master_bias = sum([bias[0].data.flatten() for bias in biases]) / len(biases)\n",
    "\n",
    "avg = np.mean(master_bias)\n",
    "mode = stats.mode(master_bias)[0][0]\n",
    "med = np.median(master_bias)\n",
    "std = np.std(master_bias)\n",
    "\n",
    "print(\"Q2 4.1\")\n",
    "print(\"standard deviation is {}\".format(std0))\n",
    "print(\"master standard deviation is {}\".format(std))\n",
    "print(\"This is a factor of {}\".format(std/std0))\n",
    "print(\"This is not quite {}\".format(1/np.sqrt(10)))"
   ]
  },
  {
   "cell_type": "code",
   "execution_count": 32,
   "metadata": {},
   "outputs": [
    {
     "name": "stdout",
     "output_type": "stream",
     "text": [
      "The percent cut defined as 3 standard deviations away is: 0.052%\n",
      "Compared to colder temperature from earlier: 0.040%\n"
     ]
    }
   ],
   "source": [
    "HotBias = list(fits.open(\"data/ccd/m13.00000031.BIAS.FIT\"))\n",
    "HotBias1 = HotBias[0].data.flatten()\n",
    "\n",
    "Hotavg, Hotmode, Hotmedian, Hotstd = stas(HotBias1)\n",
    "\n",
    "trimmed_hot = np.abs((HotBias1-Hotavg)/Hotstd)\n",
    "HotTrim = HotBias1[trimmed_hot < 3]\n",
    "pct_bad_hot = 100 * (1 - len(HotTrim) / len(HotBias1))\n",
    "\n",
    "print(f'The percent cut defined as 3 standard deviations away is: {pct_bad_hot:.3f}%')   \n",
    "print(f'Compared to colder temperature from earlier: {pct_bad:.3f}%')"
   ]
  },
  {
   "cell_type": "markdown",
   "metadata": {},
   "source": [
    "# 4.2 Dark Frames"
   ]
  },
  {
   "cell_type": "code",
   "execution_count": 14,
   "metadata": {},
   "outputs": [],
   "source": [
    "darks = sorted(glob.glob(\"data/ccd/*DARK*\"))\n",
    "darks = list(map(fits.open, darks[:]))"
   ]
  },
  {
   "cell_type": "code",
   "execution_count": 65,
   "metadata": {},
   "outputs": [],
   "source": [
    "dark = []\n",
    "for i in range(len(darks)):\n",
    "    dark.append(darks[i][0].data.flatten())"
   ]
  },
  {
   "cell_type": "code",
   "execution_count": 66,
   "metadata": {},
   "outputs": [],
   "source": [
    "Dark_Master = []\n",
    "for j in range(len(dark[15])):\n",
    "    tom = []\n",
    "    for i in range(10):\n",
    "        i = i+10   #account for only the dark frames where the time wasn't modified\n",
    "        tom.append(dark[i][j])\n",
    "    tom.sort\n",
    "    Dark_Master.append(tom[4])\n",
    "#do a median combine via sorting "
   ]
  },
  {
   "cell_type": "code",
   "execution_count": 67,
   "metadata": {},
   "outputs": [
    {
     "name": "stdout",
     "output_type": "stream",
     "text": [
      "Average: 1007.2209396362305 \n",
      "Mode: 1004 \n",
      "Median: 1004.0 \n",
      "Standard Deviation: 124.63759864813386 \n",
      "\n"
     ]
    }
   ],
   "source": [
    "Davg, Dode, Ded, Dtd = stas(Dark_Master)\n",
    "print(\"Average: {} \\nMode: {} \\nMedian: {} \\nStandard Deviation: {} \\n\".format(Davg, Dode, Ded, Dtd))"
   ]
  },
  {
   "cell_type": "code",
   "execution_count": 19,
   "metadata": {},
   "outputs": [
    {
     "data": {
      "image/png": "[encoded data removed]",
      "text/plain": [
       "<Figure size 432x288 with 1 Axes>"
      ]
     },
     "metadata": {},
     "output_type": "display_data"
    }
   ],
   "source": [
    "plt.hist(Dark_Master, bins = 100, range=bounds);"
   ]
  },
  {
   "cell_type": "code",
   "execution_count": 55,
   "metadata": {},
   "outputs": [
    {
     "name": "stdout",
     "output_type": "stream",
     "text": [
      "Fraction of pixels included in this cut: 99.89795684814453\n"
     ]
    }
   ],
   "source": [
    "Dark_trim = np.abs(Dark_Master - Davg)/Dtd\n",
    "Trimmed_Dark_Master = []\n",
    "Hot_Pixel_Count = 0\n",
    "for i in range(len(Dark_Master)):\n",
    "    if Dark_trim[i] < 3:\n",
    "        Trimmed_Dark_Master.append(Dark_Master[i])\n",
    "    if Dark_Master[i] > 60000:\n",
    "        Hot_Pixel_Count = Hot_Pixel_Count+1\n",
    "pct_good_Dark = 100 * ( len(Trimmed_Dark_Master) / len(Dark_Master))\n",
    "print(\"Fraction of pixels included in this cut:\", pct_good_Dark)"
   ]
  },
  {
   "cell_type": "code",
   "execution_count": 51,
   "metadata": {},
   "outputs": [
    {
     "name": "stdout",
     "output_type": "stream",
     "text": [
      "Average: 1005.6241052557217 \n",
      "Mode: 1004 \n",
      "Median: 1004.0 \n",
      "Standard Deviation: 15.503460990111815 \n",
      "\n"
     ]
    }
   ],
   "source": [
    "DTA, DTM, DTMe, DTS = stas(Trimmed_Dark_Master)\n",
    "print(\"Average: {} \\nMode: {} \\nMedian: {} \\nStandard Deviation: {} \\n\".format(DTA, DTM, DTMe, DTS))"
   ]
  },
  {
   "cell_type": "markdown",
   "metadata": {},
   "source": [
    "Standard Derviation changes the most due to the trimming because it goes from 124.6 to 15.5"
   ]
  },
  {
   "cell_type": "markdown",
   "metadata": {},
   "source": [
    "Hot pixels are going to be from the Dark Master and the hot pxels will have counts above 60000"
   ]
  },
  {
   "cell_type": "code",
   "execution_count": 57,
   "metadata": {},
   "outputs": [
    {
     "name": "stdout",
     "output_type": "stream",
     "text": [
      "There are  2  Hot Pixels. I.e. 0.00019 percent of the pixels are hot\n"
     ]
    }
   ],
   "source": [
    "print(\"There are \", Hot_Pixel_Count, \" Hot Pixels. I.e.\", round(Hot_Pixel_Count/len(Dark_Master)*100,5), \"percent\", \n",
    "      \"of the pixels are hot\")"
   ]
  },
  {
   "cell_type": "code",
   "execution_count": 24,
   "metadata": {},
   "outputs": [],
   "source": [
    "SDF = dark[11]\n",
    "SDFA, SDFM, SDFMe, SDFS = stast(dark[0])\n",
    "SDF_trim = np.abs(dark[0] - SDFA)/SDFS\n",
    "SDFTrim = []\n",
    "for i in range(len(SDF)):\n",
    "    if SDF_trim[i] < 3:\n",
    "        SDFTrim.append(SDF[i])\n",
    "pct_good_SDF = 100 * ( len(SDFTrim) / len(SDF))\n",
    "#SDF stands for single dark frame "
   ]
  },
  {
   "cell_type": "markdown",
   "metadata": {},
   "source": [
    "Going from a single dark frame to the master dark frame, the standard deviation increases and the amount of \n",
    "pixels thrown out also increases. "
   ]
  },
  {
   "cell_type": "code",
   "execution_count": 58,
   "metadata": {},
   "outputs": [
    {
     "name": "stdout",
     "output_type": "stream",
     "text": [
      "Single Dark Frame Standard Deviation= 81.84676429496206\n",
      "Master Dark Frame Standard Deviation= 124.63759864813386\n",
      "Percent of good data for single frame= 99.93791580200195\n",
      "Percent of good data for Master frame= 99.89795684814453\n"
     ]
    }
   ],
   "source": [
    "print(\"Single Dark Frame Standard Deviation=\",SDFS)\n",
    "print(\"Master Dark Frame Standard Deviation=\", Dtd) \n",
    "print(\"Percent of good data for single frame=\",pct_good_SDF) \n",
    "print(\"Percent of good data for Master frame=\",pct_good_Dark)"
   ]
  },
  {
   "cell_type": "code",
   "execution_count": 104,
   "metadata": {},
   "outputs": [
    {
     "data": {
      "text/plain": [
       "Text(0,0.5,'Median Count Dark Current')"
      ]
     },
     "execution_count": 104,
     "metadata": {},
     "output_type": "execute_result"
    },
    {
     "data": {
      "image/png": "[encoded data removed]",
      "text/plain": [
       "<Figure size 432x288 with 1 Axes>"
      ]
     },
     "metadata": {},
     "output_type": "display_data"
    }
   ],
   "source": [
    "median_dark_currents = []\n",
    "for i in range(10):\n",
    "    median_dark_currents.append(sum(dark[i]-master_bias)/len(dark[i]))\n",
    "    \n",
    "#median_dark_current = sum(dark_currents[:])/10\n",
    "\n",
    "times = [10,39,68,97,126,155,184,213,242,271]\n",
    "plt.plot(times,median_dark_currents)\n",
    "plt.xlabel(\"Time [s]\")\n",
    "plt.ylabel(\"Median Count Dark Current\")"
   ]
  },
  {
   "cell_type": "code",
   "execution_count": 107,
   "metadata": {},
   "outputs": [
    {
     "name": "stdout",
     "output_type": "stream",
     "text": [
      "Electrons per pixel per second: 0.44142218243986997\n"
     ]
    }
   ],
   "source": [
    "slope, intercept, r_value, p_value, std_err = stats.linregress(times,median_dark_currents)\n",
    "print(\"Electrons per pixel per second:\", slope)"
   ]
  },
  {
   "cell_type": "markdown",
   "metadata": {},
   "source": [
    "# 4.3 Flat Fields"
   ]
  },
  {
   "cell_type": "code",
   "execution_count": 135,
   "metadata": {},
   "outputs": [
    {
     "data": {
      "text/plain": [
       "array([6308.5,  260.4,  207.3, ..., 1331.5, 1303.6,  877.1])"
      ]
     },
     "execution_count": 135,
     "metadata": {},
     "output_type": "execute_result"
    }
   ],
   "source": [
    "flats = sorted(glob.glob(\"data/flat/*\"))\n",
    "flats = list(map(fits.open, flats[:])) \n",
    "flat = []\n",
    "for i in range(10):\n",
    "    flat.append(flats[i][0].data.flatten())\n",
    "    \n",
    "master_flat_field = sum(flat[:])/10\n",
    "master_flat_field"
   ]
  },
  {
   "cell_type": "code",
   "execution_count": null,
   "metadata": {},
   "outputs": [],
   "source": []
  },
  {
   "cell_type": "code",
   "execution_count": null,
   "metadata": {},
   "outputs": [],
   "source": []
  },
  {
   "cell_type": "code",
   "execution_count": null,
   "metadata": {},
   "outputs": [],
   "source": []
  },
  {
   "cell_type": "markdown",
   "metadata": {},
   "source": [
    "## Notes:\n",
    "1. \"new function that deals with arrays because thtats what everything is?\" Isn't that what it was before, also it didn't work?\n",
    "2. Good lord stop with the renaming of variables just call it what you want to call it the first time its so hard to read\n",
    "3. 4.2.3 no comprende\n",
    "4. 4.2.4 Error bars?"
   ]
  },
  {
   "cell_type": "code",
   "execution_count": null,
   "metadata": {},
   "outputs": [],
   "source": []
  }
 ],
 "metadata": {
  "kernelspec": {
   "display_name": "Python 3",
   "language": "python",
   "name": "python3"
  },
  "language_info": {
   "codemirror_mode": {
    "name": "ipython",
    "version": 3
   },
   "file_extension": ".py",
   "mimetype": "text/x-python",
   "name": "python",
   "nbconvert_exporter": "python",
   "pygments_lexer": "ipython3",
   "version": "3.6.5"
  }
 },
 "nbformat": 4,
 "nbformat_minor": 2
}
